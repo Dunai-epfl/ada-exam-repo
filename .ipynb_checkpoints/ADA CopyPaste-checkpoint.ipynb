{
 "cells": [
  {
   "cell_type": "markdown",
   "metadata": {},
   "source": [
    "# ADA - CopyPaste"
   ]
  },
  {
   "cell_type": "markdown",
   "metadata": {},
   "source": [
    "## 1. Imports & Initializations"
   ]
  },
  {
   "cell_type": "code",
   "execution_count": 1,
   "metadata": {
    "collapsed": false
   },
   "outputs": [],
   "source": [
    "#Basics\n",
    "import pandas as pd\n",
    "import numpy as np\n",
    "\n",
    "#Plots\n",
    "import matplotlib.pyplot as plt\n",
    "%matplotlib inline\n",
    "import seaborn as sns\n",
    "sns.set_context('notebook')\n",
    "    #sns.set_palette('Blues')\n",
    "\n",
    "#OS/Extras\n",
    "import pickle\n",
    "import os\n",
    "directory = os.getcwd()\n",
    "list_of_files = os.listdir(directory)\n",
    "import re #Regular Expression -> https://docs.python.org/2/library/re.html#module-re\n",
    "import pycountry #For looping in countries\n",
    "# for country in pycountry.countries:\n",
    "#     print(country.name + \" \" + country.alpha_2)\n",
    "\n",
    "#Web\n",
    "import requests\n",
    "from bs4 import BeautifulSoup\n",
    "from urllib import parse\n",
    "import folium\n",
    "import json\n",
    "\n",
    "#Stats/ML\n",
    "import scipy.stats as stats\n",
    "from sklearn.neural_network import MLPClassifier\n",
    "from sklearn.neighbors import KNeighborsClassifier\n",
    "from sklearn.ensemble import RandomForestClassifier\n",
    "from sklearn.model_selection import GridSearchCV\n",
    "from sklearn.metrics import confusion_matrix\n",
    "from sklearn.model_selection import cross_val_predict\n",
    "from sklearn.model_selection import cross_val_score\n",
    "from sklearn.feature_selection import RFECV\n",
    "from sklearn.model_selection import learning_curve\n",
    "from sklearn.cluster import KMeans\n",
    "from sklearn.metrics import silhouette_samples, silhouette_score\n",
    "from scipy.stats.mstats import zscore\n",
    "from sklearn.preprocessing import minmax_scale\n",
    "\n",
    "\n",
    "#Text\n",
    "import nltk\n",
    "from nltk.corpus import stopwords\n",
    "from wordcloud import WordCloud\n",
    "from nltk.stem import WordNetLemmatizer\n",
    "from nltk.stem.snowball import SnowballStemmer\n",
    "from nltk.sentiment.vader import SentimentIntensityAnalyzer\n",
    "from gensim import corpora, models\n",
    "from collections import defaultdict\n",
    "\n",
    "#Community detection\n",
    "import community\n",
    "import networkx as nx"
   ]
  },
  {
   "cell_type": "markdown",
   "metadata": {},
   "source": [
    "## 2. Loading & Writting"
   ]
  },
  {
   "cell_type": "code",
   "execution_count": 101,
   "metadata": {
    "collapsed": false
   },
   "outputs": [],
   "source": [
    "#From CSV\n",
    "path = \"Data/microbiome.csv\"\n",
    "df = pd.read_csv(path, header=None, sep=',', na_values=['?', -9999], index_col=['Taxon','Patient']) #just one if no multi-index\n",
    "\n",
    "#From Pickle\n",
    "pd.read_pickle(\"df_pickle\")\n",
    "#or...\n",
    "with open('df.pickle', 'rb') as handle:\n",
    "    df = pickle.load(handle)\n",
    "\n",
    "#From excel\n",
    "df = pd.read_excel('Data/microbiome/MID2.xls', sheetname='Sheet 1',index_col=0, header=None)\n",
    "\n",
    "#From scratch:\n",
    "df = pd.DataFrame({'feature1':[632, 1638, 569, 115, 433, 1130, 754, 555],\n",
    "                   'feature2':[1, 1, 1, 1, 2, 2, 2, 2],\n",
    "                   'feature3':['Firmicutes', 'Proteobacteria', 'Actinobacteria', \n",
    "                             'Bacteroidetes', 'Firmicutes', 'Proteobacteria',\n",
    "                             'Actinobacteria', 'Bacteroidetes']})\n",
    "\n",
    "df_num = df[['feature1','feature2']] #somethings can only be done in numeric\n",
    "\n",
    "#To CSV\n",
    "df.to_csv(\"df.csv\")\n",
    "\n",
    "#To Pickle\n",
    "df.to_pickle(\"df_pickle\")\n",
    "#or...\n",
    "with open('df.pickle', 'wb') as handle:\n",
    "    pickle.dump(df, handle)\n",
    "    \n",
    "#To JSON\n",
    "with open('nations.json', 'w') as outfile:\n",
    "    json.dump(d, outfile)"
   ]
  },
  {
   "cell_type": "markdown",
   "metadata": {},
   "source": [
    "## 3. Porperties and Methods"
   ]
  },
  {
   "cell_type": "code",
   "execution_count": 195,
   "metadata": {
    "collapsed": false
   },
   "outputs": [
    {
     "data": {
      "text/plain": [
       "['a', 'cd']"
      ]
     },
     "execution_count": 195,
     "metadata": {},
     "output_type": "execute_result"
    }
   ],
   "source": [
    "# Of DataFrame\n",
    "df.head()\n",
    "df.tail()\n",
    "df.shape\n",
    "df.columns\n",
    "df.dtypes\n",
    "df.index\n",
    "df.index.is_unique #check for unique index\n",
    "df.describe()\n",
    "df.isin(['Firmicutes','Bacteroidetes']) # Also works with intergers. Returns True/False dataframe\n",
    "df.sort_index(ascending=False) #descending order\n",
    "df.sort_values(ascending=[False,True], by=['feature1', 'feature2']) #double sorting\n",
    "df.reset_index()\n",
    "df1 = df_num.sum(axis=1) #sums through rows\n",
    "df1 = df_num.corr()\n",
    "df1 = df.transpose()\n",
    "s1 = pd.Categorical(df.feature3)\n",
    "df1 = df.sample(n=10, replace=False)\n",
    "\n",
    "# Of Series\n",
    "s = df.feature1 #s == Series\n",
    "s.values\n",
    "s.isnull()\n",
    "s.notnull()\n",
    "s.astype(str)\n",
    "s.is_unique\n",
    "s.unique() #returns the 'set'\n",
    "s.value_counts()\n",
    "s.max()\n",
    "s.min()\n",
    "s.sum()\n",
    "s.mean()\n",
    "s.sort_values(ascending=False) #descending order\n",
    "s.astype(float).round(3) #three decimals\n",
    "idx = s.rank(method='first', ascending=False)\n",
    "s.replace(0, 1e-6)\n",
    "l = s.tolist() #values to list\n",
    "\n",
    "# Of Lists\n",
    "l2 = list(s.values)\n",
    "l2.append(1) #adds 1 at the end\n",
    "l2.pop()#pops the 1\n",
    "l2.count(10) #counts how many 10s\n",
    "\n",
    "# Of Strings\n",
    "string = 'abcd'\n",
    "string.endswith('cd') #True/False\n",
    "string.startswith('ab') #True/False\n",
    "'bc' in string #True/False\n",
    "str2 = string + 'e'\n",
    "str2 = \"abcd{0}\".format('e') #allows numeric\n",
    "string.lower()\n",
    "string.upper()\n",
    "string.find('b') #returns first index, -1 on failure\n",
    "string.split('b')"
   ]
  },
  {
   "cell_type": "markdown",
   "metadata": {},
   "source": [
    "## 4. Handling Data"
   ]
  },
  {
   "cell_type": "code",
   "execution_count": 246,
   "metadata": {
    "collapsed": false
   },
   "outputs": [
    {
     "name": "stderr",
     "output_type": "stream",
     "text": [
      "C:\\Users\\dunay\\Anaconda3\\lib\\site-packages\\ipykernel\\__main__.py:4: SettingWithCopyWarning: \n",
      "A value is trying to be set on a copy of a slice from a DataFrame\n",
      "\n",
      "See the caveats in the documentation: http://pandas.pydata.org/pandas-docs/stable/indexing.html#indexing-view-versus-copy\n"
     ]
    },
    {
     "data": {
      "text/html": [
       "<div>\n",
       "<table border=\"1\" class=\"dataframe\">\n",
       "  <thead>\n",
       "    <tr style=\"text-align: right;\">\n",
       "      <th>feature2</th>\n",
       "      <th>1</th>\n",
       "      <th>2</th>\n",
       "    </tr>\n",
       "    <tr>\n",
       "      <th>feature3</th>\n",
       "      <th></th>\n",
       "      <th></th>\n",
       "    </tr>\n",
       "  </thead>\n",
       "  <tbody>\n",
       "    <tr>\n",
       "      <th>Actinobacteria</th>\n",
       "      <td>10</td>\n",
       "      <td>754</td>\n",
       "    </tr>\n",
       "    <tr>\n",
       "      <th>Bacteroidetes</th>\n",
       "      <td>10</td>\n",
       "      <td>555</td>\n",
       "    </tr>\n",
       "    <tr>\n",
       "      <th>Firmicutes</th>\n",
       "      <td>632</td>\n",
       "      <td>433</td>\n",
       "    </tr>\n",
       "    <tr>\n",
       "      <th>Proteobacteria</th>\n",
       "      <td>10</td>\n",
       "      <td>10</td>\n",
       "    </tr>\n",
       "  </tbody>\n",
       "</table>\n",
       "</div>"
      ],
      "text/plain": [
       "feature2          1    2\n",
       "feature3                \n",
       "Actinobacteria   10  754\n",
       "Bacteroidetes    10  555\n",
       "Firmicutes      632  433\n",
       "Proteobacteria   10   10"
      ]
     },
     "execution_count": 246,
     "metadata": {},
     "output_type": "execute_result"
    }
   ],
   "source": [
    "# Assignation\n",
    "df['new'] = 0 #initialization of column to 0\n",
    "df.set_value(5, 'feature1', 10) #(index,column,value)\n",
    "s[1:4] = 10 #affects the dataframe because s is defined by pointer. With warning!\n",
    "df1 = df.copy() #No pointer\n",
    "df1['feature4'] = df.feature1 + df.feature2\n",
    "\n",
    "# Selections\n",
    "th = 500 #threshold\n",
    "\n",
    "s = df['feature1']\n",
    "s[s>th]\n",
    "\n",
    "df1 = df.ix[:,['feature1','feature2']]\n",
    "df1 = df.ix[[2,3],0:2] # Like matrix\n",
    "df1 = df.ix[2:,'feature1':'feature3'] # Like matrix\n",
    "\n",
    "df1 = df[df.feature1>th]\n",
    "df1 = df.query('feature1>@th')\n",
    "\n",
    "df1 = df.select(crit=(lambda x:not x%5),axis=0) #Takes only indexes 0-5-10...\n",
    "df1 = df.filter(regex='feature') # keeps feature1,feature2,feature3. Accepts regular experession things!  re.search(regex, col) == True\n",
    "df1 = df.filter(items=['feature1','feature4']) #keeps the ones present\n",
    "\n",
    "# Discretization\n",
    "df1 = pd.cut(df.feature1, [0,20,600], labels=['0-20','20-600'])\n",
    "# df1 = pd.qcut(df.feature1,4) #percentiles\n",
    "\n",
    "# Clean\n",
    "df1 = df[pd.isnull(df)]\n",
    "df1 = df.drop('feature3', axis=1) #1 for column, 0 for row\n",
    "df.dropna(how='any', subset=['feature1','feature2'], axis=0, inplace=True) # 0 rows, 1 columns. how={‘any’, ‘all’}. thresh=xxx \n",
    "df.fillna(0, inplace=True) #fill with 0s\n",
    "df.fillna(method='bfill', inplace=True) #fills with interpolation\n",
    "df2 = df.drop_duplicates(subset=['feature1','feature2'],keep='first') # keep : {‘first’, ‘last’, False}\n",
    "\n",
    "# Merging and joining\n",
    "df2 = pd.concat([df,df1], axis=0) # 0 pastes on the bottom, 1 pastes on the right. join : {‘inner’, ‘outer’}, default ‘outer’. ignore_index :True/False\n",
    "df2 = pd.merge(df, df1, left_on='feature1', right_on='feature1', sort=False) # how:{'left', 'right', 'outer', 'inner'}.\n",
    "\n",
    "#Grouping\n",
    "df1 = df.groupby('feature3').feature2.mean()\n",
    "#or...\n",
    "df1 = df.groupby('feature3')[['feature2']].mean()\n",
    "\n",
    "# Reindex\n",
    "df1 = df.rename(index={4: 'New cases', 1: 'Total deaths'})\n",
    "df1 = df.rename(columns={'feature3':'Total deaths'})\n",
    "df1 = df.set_index(['feature3','feature2'])\n",
    "    # df1 = df1.ix[('Firmicutes',2),:] #now selection with parenthesis in multi-index\n",
    "df2 = df1['feature1'].unstack('feature2') #from multiple index with 1 obs, to matrix with feature3 as rows and feature2 as columns\n",
    "df2 = df.pivot(index='feature3', columns='feature2', values='feature1') #same result as the previous 2 lines.\n",
    "#pivot_table has more aggregation functs.\n",
    "df1 = df1.reset_index() #need to copy. Or inplace=True\n",
    "index1 = df.index.intersection(df1.index) #como un join inner \n",
    "\n",
    "df2"
   ]
  },
  {
   "cell_type": "markdown",
   "metadata": {},
   "source": [
    "## 5. Plotting"
   ]
  },
  {
   "cell_type": "code",
   "execution_count": 225,
   "metadata": {
    "collapsed": false,
    "scrolled": true
   },
   "outputs": [
    {
     "data": {
      "text/plain": [
       "<matplotlib.collections.PathCollection at 0x1cf77b63940>"
      ]
     },
     "execution_count": 225,
     "metadata": {},
     "output_type": "execute_result"
    },
    {
     "data": {
      "image/png": "[encoded data removed]",
      "text/plain": [
       "<matplotlib.figure.Figure at 0x1cf757a97b8>"
      ]
     },
     "metadata": {},
     "output_type": "display_data"
    },
    {
     "data": {
      "image/png": "[encoded data removed]",
      "text/plain": [
       "<matplotlib.figure.Figure at 0x1cf779afa90>"
      ]
     },
     "metadata": {},
     "output_type": "display_data"
    }
   ],
   "source": [
    "s.hist(bins=10) #Hist\n",
    "df.feature1.value_counts().plot(kind='bar', title='Feature 1') #Barplot\n",
    "df.feature1.hist(by=df['feature3'],rwidth=0.1,align='mid')\n",
    "plt.scatter(df.feature1,df.feature2, c='b',marker='o',label='Male') #Scatter"
   ]
  },
  {
   "cell_type": "code",
   "execution_count": null,
   "metadata": {
    "collapsed": true
   },
   "outputs": [],
   "source": [
    "#The sentiment plot: Dunno really what is going on here, but just in case\n",
    "sentiment = np.array(avg_sentiment_countries['Avg_Sentiment'])\n",
    "\n",
    "colors = plt.cm.RdYlGn(sentiment / float(max(sentiment) - min(sentiment)))\n",
    "plt.figure(figsize=(16,10))\n",
    "plot = plt.scatter(sentiment, sentiment, c=sentiment, cmap = 'RdYlGn')\n",
    "plt.clf()\n",
    "clb = plt.colorbar(plot)\n",
    "clb.ax.set_title(\"Relative Sentiment\")\n",
    "plt.bar(range(avg_sentiment_countries.shape[0]),avg_sentiment_countries['Frequency'],1.0,align='center',color = colors)\n",
    "plt.xticks(range(avg_sentiment_countries.shape[0]), avg_sentiment_countries.index, rotation='vertical')\n",
    "plt.xlabel('Countries')\n",
    "plt.ylabel('Frequency')\n",
    "plt.title('Sentiment by Countries')\n",
    "plt.axis('tight')\n",
    "plt.margins(0.05, 0)"
   ]
  },
  {
   "cell_type": "markdown",
   "metadata": {},
   "source": [
    "## 6. The Web"
   ]
  },
  {
   "cell_type": "code",
   "execution_count": 215,
   "metadata": {
    "collapsed": false
   },
   "outputs": [
    {
     "name": "stdout",
     "output_type": "stream",
     "text": [
      "<html>\n",
      " <head>\n",
      "  <meta content=\"text/html; charset=utf-8\" http-equiv=\"Content-Type\">\n",
      "   <div>\n",
      "   </div>\n",
      "   <title>\n",
      "   </title>\n",
      "   <script src=\"GEDPUBLICREPORTS.txt?ww_x_path=Gestac.Base.Palette_js&amp;ww_c_langue=fr\" type=\"text/javascript\">\n",
      "   </script>\n",
      "   <link href=\"GEDPUBLICREPORTS.css?ww_x_path=Gestac.Moniteur.Style\" rel=\"stylesheet\" type=\"text/css\">\n",
      "    <link href=\"GEDPUBLICREPORTS.css?ww_x_path=Gestac.Moniteur.StyleNavigator\" rel=\"stylesheet\" type=\"text/css\"/>\n",
      "   </link>\n",
      "  </meta>\n",
      " </head>\n",
      " <body alink=\"#666666\" bgcolor=\"#ffffff\" link=\"#666666\" marginheight=\"0\" marginwidth=\"5\" vlink=\"#666666\">\n",
      "  <div class=\"filtres\">\n",
      "   <form action=\"!GEDPUBLICREPORTS.filter\" method=\"GET\" name=\"f\">\n",
      "    <input name=\"ww_b_list\" type=\"hidden\" value=\"1\">\n",
      "     <input name=\"ww_i_reportmodel\" type=\"hidden\" value=\"133685247\">\n",
      "      <input name=\"ww_c_langue\" type=\"hidden\" value=\"\">\n",
      "       <h1 id=\"titre\">\n",
      "        Liste des étudiants inscrits par semestre\n",
      "       </h1>\n",
      "       <table border=\"0\" id=\"format\">\n",
      "        <tr>\n",
      "         <th>\n",
      "          Format:\n",
      "         </th>\n",
      "        </tr>\n",
      "        <tr>\n",
      "         <td>\n",
      "          <input checked=\"\" name=\"ww_i_reportModelXsl\" type=\"radio\" value=\"133685270\">\n",
      "           html\n",
      "          </input>\n",
      "         </td>\n",
      "        </tr>\n",
      "        <tr>\n",
      "         <td>\n",
      "          <input name=\"ww_i_reportModelXsl\" type=\"radio\" value=\"133685271\">\n",
      "           xls\n",
      "          </input>\n",
      "         </td>\n",
      "        </tr>\n",
      "       </table>\n",
      "       <h1>\n",
      "       </h1>\n",
      "       <table border=\"0\" id=\"filtre\">\n",
      "        <tr>\n",
      "         <th>\n",
      "          Unité académique\n",
      "         </th>\n",
      "         <td>\n",
      "          <input name=\"zz_x_UNITE_ACAD\" type=\"hidden\" value=\"\">\n",
      "           <select name=\"ww_x_UNITE_ACAD\" onchange=\"document.f.zz_x_UNITE_ACAD.value=document.f.ww_x_UNITE_ACAD.options[document.f.ww_x_UNITE_ACAD.selectedIndex].text\">\n",
      "            <option value=\"null\">\n",
      "            </option>\n",
      "            <option value=\"942293\">\n",
      "             Architecture\n",
      "            </option>\n",
      "            <option value=\"246696\">\n",
      "             Chimie et génie chimique\n",
      "            </option>\n",
      "            <option value=\"943282\">\n",
      "             Cours de mathématiques spéciales\n",
      "            </option>\n",
      "            <option value=\"637841336\">\n",
      "             EME (EPFL Middle East)\n",
      "            </option>\n",
      "            <option value=\"942623\">\n",
      "             Génie civil\n",
      "            </option>\n",
      "            <option value=\"944263\">\n",
      "             Génie mécanique\n",
      "            </option>\n",
      "            <option value=\"943936\">\n",
      "             Génie électrique et électronique\n",
      "            </option>\n",
      "            <option value=\"2054839157\">\n",
      "             Humanités digitales\n",
      "            </option>\n",
      "            <option value=\"249847\">\n",
      "             Informatique\n",
      "            </option>\n",
      "            <option value=\"120623110\">\n",
      "             Ingénierie financière\n",
      "            </option>\n",
      "            <option value=\"946882\">\n",
      "             Management de la technologie\n",
      "            </option>\n",
      "            <option value=\"944590\">\n",
      "             Mathématiques\n",
      "            </option>\n",
      "            <option value=\"945244\">\n",
      "             Microtechnique\n",
      "            </option>\n",
      "            <option value=\"945571\">\n",
      "             Physique\n",
      "            </option>\n",
      "            <option value=\"944917\">\n",
      "             Science et génie des matériaux\n",
      "            </option>\n",
      "            <option value=\"942953\">\n",
      "             Sciences et ingénierie de l'environnement\n",
      "            </option>\n",
      "            <option value=\"945901\">\n",
      "             Sciences et technologies du vivant\n",
      "            </option>\n",
      "            <option value=\"1574548993\">\n",
      "             Section FCUE\n",
      "            </option>\n",
      "            <option value=\"946228\">\n",
      "             Systèmes de communication\n",
      "            </option>\n",
      "           </select>\n",
      "          </input>\n",
      "         </td>\n",
      "        </tr>\n",
      "        <tr>\n",
      "         <th>\n",
      "          Période académique\n",
      "         </th>\n",
      "         <td>\n",
      "          <input name=\"zz_x_PERIODE_ACAD\" type=\"hidden\" value=\"\">\n",
      "           <select name=\"ww_x_PERIODE_ACAD\" onchange=\"document.f.zz_x_PERIODE_ACAD.value=document.f.ww_x_PERIODE_ACAD.options[document.f.ww_x_PERIODE_ACAD.selectedIndex].text\">\n",
      "            <option value=\"null\">\n",
      "            </option>\n",
      "            <option value=\"355925344\">\n",
      "             2016-2017\n",
      "            </option>\n",
      "            <option value=\"213638028\">\n",
      "             2015-2016\n",
      "            </option>\n",
      "            <option value=\"213637922\">\n",
      "             2014-2015\n",
      "            </option>\n",
      "            <option value=\"213637754\">\n",
      "             2013-2014\n",
      "            </option>\n",
      "            <option value=\"123456101\">\n",
      "             2012-2013\n",
      "            </option>\n",
      "            <option value=\"123455150\">\n",
      "             2011-2012\n",
      "            </option>\n",
      "            <option value=\"39486325\">\n",
      "             2010-2011\n",
      "            </option>\n",
      "            <option value=\"978195\">\n",
      "             2009-2010\n",
      "            </option>\n",
      "            <option value=\"978187\">\n",
      "             2008-2009\n",
      "            </option>\n",
      "            <option value=\"978181\">\n",
      "             2007-2008\n",
      "            </option>\n",
      "           </select>\n",
      "          </input>\n",
      "         </td>\n",
      "        </tr>\n",
      "        <tr>\n",
      "         <th>\n",
      "          Période pédagogique\n",
      "         </th>\n",
      "         <td>\n",
      "          <input name=\"zz_x_PERIODE_PEDAGO\" type=\"hidden\" value=\"\">\n",
      "           <select name=\"ww_x_PERIODE_PEDAGO\" onchange=\"document.f.zz_x_PERIODE_PEDAGO.value=document.f.ww_x_PERIODE_PEDAGO.options[document.f.ww_x_PERIODE_PEDAGO.selectedIndex].text\">\n",
      "            <option value=\"null\">\n",
      "            </option>\n",
      "            <option value=\"249108\">\n",
      "             Bachelor semestre 1\n",
      "            </option>\n",
      "            <option value=\"249114\">\n",
      "             Bachelor semestre 2\n",
      "            </option>\n",
      "            <option value=\"942155\">\n",
      "             Bachelor semestre 3\n",
      "            </option>\n",
      "            <option value=\"942163\">\n",
      "             Bachelor semestre 4\n",
      "            </option>\n",
      "            <option value=\"942120\">\n",
      "             Bachelor semestre 5\n",
      "            </option>\n",
      "            <option value=\"2226768\">\n",
      "             Bachelor semestre 5b\n",
      "            </option>\n",
      "            <option value=\"942175\">\n",
      "             Bachelor semestre 6\n",
      "            </option>\n",
      "            <option value=\"2226785\">\n",
      "             Bachelor semestre 6b\n",
      "            </option>\n",
      "            <option value=\"2230106\">\n",
      "             Master semestre 1\n",
      "            </option>\n",
      "            <option value=\"942192\">\n",
      "             Master semestre 2\n",
      "            </option>\n",
      "            <option value=\"2230128\">\n",
      "             Master semestre 3\n",
      "            </option>\n",
      "            <option value=\"2230140\">\n",
      "             Master semestre 4\n",
      "            </option>\n",
      "            <option value=\"2335667\">\n",
      "             Mineur semestre 1\n",
      "            </option>\n",
      "            <option value=\"2335676\">\n",
      "             Mineur semestre 2\n",
      "            </option>\n",
      "            <option value=\"2063602308\">\n",
      "             Mise à niveau\n",
      "            </option>\n",
      "            <option value=\"249127\">\n",
      "             Projet Master automne\n",
      "            </option>\n",
      "            <option value=\"3781783\">\n",
      "             Projet Master printemps\n",
      "            </option>\n",
      "            <option value=\"953159\">\n",
      "             Semestre automne\n",
      "            </option>\n",
      "            <option value=\"2754553\">\n",
      "             Semestre printemps\n",
      "            </option>\n",
      "            <option value=\"953137\">\n",
      "             Stage automne 3ème année\n",
      "            </option>\n",
      "            <option value=\"2226616\">\n",
      "             Stage automne 4ème année\n",
      "            </option>\n",
      "            <option value=\"983606\">\n",
      "             Stage printemps 3ème année\n",
      "            </option>\n",
      "            <option value=\"2226626\">\n",
      "             Stage printemps 4ème année\n",
      "            </option>\n",
      "            <option value=\"2227132\">\n",
      "             Stage printemps master\n",
      "            </option>\n",
      "           </select>\n",
      "          </input>\n",
      "         </td>\n",
      "        </tr>\n",
      "        <tr>\n",
      "         <th>\n",
      "          Type de semestre\n",
      "         </th>\n",
      "         <td>\n",
      "          <input name=\"zz_x_HIVERETE\" type=\"hidden\" value=\"\">\n",
      "           <select name=\"ww_x_HIVERETE\" onchange=\"document.f.zz_x_HIVERETE.value=document.f.ww_x_HIVERETE.options[document.f.ww_x_HIVERETE.selectedIndex].text\">\n",
      "            <option value=\"null\">\n",
      "            </option>\n",
      "            <option value=\"2936286\">\n",
      "             Semestre d'automne\n",
      "            </option>\n",
      "            <option value=\"2936295\">\n",
      "             Semestre de printemps\n",
      "            </option>\n",
      "           </select>\n",
      "          </input>\n",
      "         </td>\n",
      "        </tr>\n",
      "       </table>\n",
      "       <input name=\"dummy\" type=\"submit\" value=\"ok\"/>\n",
      "      </input>\n",
      "     </input>\n",
      "    </input>\n",
      "   </form>\n",
      "   <script type=\"text/javascript\">\n",
      "    function loadReport(x) {\n",
      "    var querysup='';\n",
      "    writeRunning(top.principal);\n",
      "    for (i=0; document.f.elements.length > i; i++){\n",
      "     if (document.f.elements[i].checked){\n",
      "      querysup=querysup+'&'+document.f.elements[i].name+'='+document.f.elements[i].value;\n",
      "     }\n",
      "     if (document.f.elements[i].type=='select-one') {\n",
      "      querysup=querysup+'&'+document.f.elements[i].name+'='+document.f.elements[i].options[document.f.elements[i].selectedIndex].value;\n",
      "     }\n",
      "     if (document.f.elements[i].type=='text'){\n",
      "      querysup=querysup+'&'+document.f.elements[i].name+'='+document.f.elements[i].value;\n",
      "     }\n",
      "    }\n",
      "    parent.principal.location = \"!GEDPUBLICREPORTS.bhtml?\"+x+\"&ww_i_reportModel=133685247\"+querysup;\n",
      "    if (navigator.userAgent.toUpperCase().indexOf('SAFARI') != -1) {\n",
      "     document.location.reload();\n",
      "    }\n",
      "   }\n",
      "   </script>\n",
      "   <h1>\n",
      "   </h1>\n",
      "   <table border=\"0\">\n",
      "   </table>\n",
      "  </div>\n",
      " </body>\n",
      "</html>\n",
      "<!-- OpenXml:0.00s  agent ctrl:0.01s  xml:0.28s  xsl clob before parse:0.00s  xsl extr&stylesheet:0.00s  xsl clob before parse:0.01s  xsl after parsing:0.00s  xsl ctrl data:0.00s  transform 2:0.02s  xsl process:0.00s  -->\n",
      "\n"
     ]
    }
   ],
   "source": [
    "url = 'http://isa.epfl.ch/imoniteur_ISAP/!GEDPUBLICREPORTS.filter?ww_i_reportModel=133685247'\n",
    "r = requests.get(url)\n",
    "soup = BeautifulSoup(r.text, 'html.parser')\n",
    "print(soup.prettify())"
   ]
  },
  {
   "cell_type": "code",
   "execution_count": 221,
   "metadata": {
    "collapsed": false
   },
   "outputs": [],
   "source": [
    "dept_node = soup.find_all('select', attrs={'name': 'ww_x_UNITE_ACAD'})\n",
    "dept = {} #A Dic\n",
    "for option in dept_node[0].findAll('option'): #selections of the soup are more soup\n",
    "    if option.get('value') != 'null':\n",
    "        dept[option.get_text()] = option.get('value') # get_text() and get('value')"
   ]
  },
  {
   "cell_type": "code",
   "execution_count": null,
   "metadata": {
    "collapsed": true
   },
   "outputs": [],
   "source": [
    "# Geoname API\n",
    "username = 'dunaiada'\n",
    "url = 'http://api.geonames.org/search?q=' + uni_tmp + '&country=CH' + '&maxRows=1&username=' + username + '&type=json'\n",
    "## Encode special characters and spaces\n",
    "query = parse.quote(url,safe=':/&=?')\n",
    "## Parse JSON data\n",
    "d = json.loads(requests.get(query).text)\n",
    "\n",
    "# or.. Geocoder\n",
    "import geocoder\n",
    "response = geocoder.google(uni_tmp,components=\"country:CH\")\n",
    "json_out = response.json\n",
    "\n",
    "# Access JSON\n",
    "state = json_out['state']"
   ]
  },
  {
   "cell_type": "code",
   "execution_count": null,
   "metadata": {
    "collapsed": true
   },
   "outputs": [],
   "source": [
    "#Folium maps\n",
    "map_with_uni_markers = folium.Map(location=[46.76, 8.26], tiles='Mapbox Bright',zoom_start=8)\n",
    "for indx in range(fbu.shape[0]):\n",
    "    if fbu.iloc[indx]['Latitude'] != ''  :\n",
    "        folium.Marker(location=[fbu.iloc[indx]['Latitude'],fbu.iloc[indx]['Longitude']],\n",
    "                      popup=fbu.iloc[indx]['University']).add_to(map_with_uni_markers)      \n",
    "map_with_uni_markers.save('map_with_uni_markers.html') #And finally save to later see in a browser.\n",
    "\n",
    "#Another map\n",
    "topo_path = 'ch-cantons.topojson.json'\n",
    "m = folium.Map(location=[46.76, 8.26], zoom_start=8, tiles='Mapbox Bright')\n",
    "m.choropleth(geo_path=topo_path, data=extended_data, columns=['Canton', 'Funding(in Millions CHF)'],\n",
    "             key_on='feature.id', topojson='objects.cantons', fill_color='YlGn', legend_name = 'Funding (CHF)')\n",
    "m.save('map_funding_by_canton.html') #Check in a browser!"
   ]
  },
  {
   "cell_type": "markdown",
   "metadata": {},
   "source": [
    "## 7. Stats / Normalization"
   ]
  },
  {
   "cell_type": "code",
   "execution_count": null,
   "metadata": {
    "collapsed": true
   },
   "outputs": [],
   "source": [
    "'''\n",
    "p-value < 0.05  => Reject the null hypothesis\n",
    "'''\n",
    "# null hypothesis: it is equally likely that a randomly selected value from one sample will be less than or greater than a randomly selected value from a second sample.\n",
    "stats.mannwhitneyu(x, y)\n",
    "# null hypothesis: two or more groups have the same population mean\n",
    "stats.f_oneway([x,y]) # Normally distributed population.\n",
    "\n",
    "# Normalize\n",
    "features = zscore(features) #per column\n",
    "#or.. min_max_scale\n",
    "features = minmax_scale(features) #per column\n"
   ]
  },
  {
   "cell_type": "markdown",
   "metadata": {},
   "source": [
    "## 8. ML"
   ]
  },
  {
   "cell_type": "code",
   "execution_count": null,
   "metadata": {
    "collapsed": true
   },
   "outputs": [],
   "source": [
    "#Seed initialization for repeatability\n",
    "np.random.seed(seed=42) #The answer is 42 ;)\n",
    "\n",
    "# Finding the categorical variables\n",
    "cat_columns = df.select_dtypes(['object']).columns\n",
    "# Transforming to numerical\n",
    "df[cat_columns] = df[cat_columns].apply(lambda x: x.astype('category').cat.codes)\n",
    "#or... Dummies\n",
    "df1 = pd.get_dummies(df,columns=['feature3'])\n",
    "\n",
    "'''\n",
    "RandomForestClassifier(n_estimators=10, criterion='gini', max_depth=None, min_samples_split=2,\n",
    "  min_samples_leaf=1, min_weight_fraction_leaf=0.0, max_features='auto', \n",
    "  max_leaf_nodes=None, min_impurity_split=1e-07, bootstrap=True, oob_score=False, \n",
    "  n_jobs=1, random_state=None, verbose=0, warm_start=False, class_weight=None)\n",
    "'''\n",
    "model = RandomForestClassifier(n_estimators=100, class_weight=\"balanced\")\n",
    "\n",
    "'''\n",
    "MLPClassifier(hidden_layer_sizes=(100, ), activation='relu',\n",
    "    solver='adam', alpha=0.0001, batch_size='auto', learning_rate='constant', learning_rate_init=0.001,\n",
    "    power_t=0.5, max_iter=200, shuffle=True, random_state=None, tol=0.0001, verbose=False, warm_start=False,\n",
    "    momentum=0.9, nesterovs_momentum=True, early_stopping=False, validation_fraction=0.1, beta_1=0.9,\n",
    "    beta_2=0.999, epsilon=1e-08)\n",
    "'''\n",
    "model = MLPClassifier(activation='logistic',hidden_layer_sizes=(1000,100))\n",
    "\n",
    "'''\n",
    "KNeighborsClassifier(n_neighbors=5, weights='uniform', algorithm='auto', leaf_size=30, p=2,\n",
    "    metric='minkowski', metric_params=None, n_jobs=1, **kwargs)\n",
    "'''\n",
    "model = KNeighborsClassifier(n_neighbors=5, algorithm='auto',weights='uniform')\n",
    "\n",
    "'''\n",
    "GridSearchCV(estimator, param_grid, scoring=None, fit_params=None, n_jobs=1, iid=True, refit=True, \n",
    "    cv=None, verbose=0, pre_dispatch='2*n_jobs', error_score='raise', return_train_score=True)[source])\n",
    "'''\n",
    "max_depth = [1, 3, 5, 10, 20] #For RF\n",
    "tuned_parameters = [{'max_depth': max_depth}]\n",
    "clf = GridSearchCV(model, tuned_parameters, cv=10)\n",
    "clf.fit(features, labels); #or X,Y\n",
    "plt.plot(max_depth, clf.cv_results_['mean_test_score'], 'b>-')\n",
    "plt.plot(max_depth, clf.cv_results_['mean_train_score'], 'go-');\n",
    "plt.title('Max Depth vs Accuracy'); plt.legend( ('Test', 'Train'), loc='upper left')\n",
    "plt.xlabel('Maximum depth'); plt.ylabel('Mean accuracy');\n",
    "\n",
    "'''\n",
    "Cross-val-predict + Confusion Matrix\n",
    "'''\n",
    "predicted = cross_val_predict(model, features, labels, cv=10)\n",
    "confusion_matrix(y_true=labels, y_pred=predicted)\n",
    "\n",
    "'''\n",
    "Cross-val-score\n",
    "'''\n",
    "scores = cross_val_score(model, features, labels, scoring='roc_auc', cv=10) #scoring: http://scikit-learn.org/stable/modules/model_evaluation.html\n",
    "mean_score = np.mean(scores)\n",
    "var_score = np.var(scores)\n",
    "\n",
    "'''\n",
    "Feature Importance\n",
    "'''\n",
    "rf.fit(features,labels)\n",
    "importances = rf.feature_importances_\n",
    "std = np.std([tree.feature_importances_ for tree in rf.estimators_],axis=0)\n",
    "indices = np.argsort(importances)[::-1]\n",
    "# Plot the feature importances of the forest\n",
    "X = features\n",
    "f = np.asarray(features.columns.tolist())\n",
    "plt.figure()\n",
    "plt.title(\"Feature importances\")\n",
    "plt.bar(range(X.shape[1]), importances[indices], color=\"r\", yerr=std[indices], align=\"center\")\n",
    "plt.xticks(range(X.shape[1]), f[indices])\n",
    "plt.xlim([-1, X.shape[1]])\n",
    "fig = plt.gcf()\n",
    "fig.set_size_inches(16, 9)\n",
    "plt.show()\n",
    "\n",
    "print(f[[indices]])\n",
    "\n",
    "'''\n",
    "Recursive Feature Elimination\n",
    "'''\n",
    "#Step and elimnate features\n",
    "rfecv = RFECV(model, step=1, cv=10)\n",
    "rfecv = rfecv.fit(features, labels)\n",
    "# summarize the selection of the attributes\n",
    "print(rfecv.support_)\n",
    "print(rfecv.ranking_)\n",
    "plt.plot(range(1, len(rfecv.grid_scores_) + 1), rfecv.grid_scores_)\n",
    "\n",
    "'''\n",
    "Learning Curve\n",
    "'''\n",
    "train_sizes, train_scores, test_scores = learning_curve(model, X=features, y=labels, groups=None,\n",
    "                                                        train_sizes=np.array([ 0.05, 0.1, 0.2, 0.33, 0.55, 0.78, 1.]),\n",
    "                                                        cv=40, scoring=None, exploit_incremental_learning=False,\n",
    "                                                        n_jobs=1, pre_dispatch='all', verbose=0) #Make exploit true for NN\n",
    "train_scores_mean = np.mean(train_scores, axis=1)\n",
    "train_scores_std = np.std(train_scores, axis=1)\n",
    "test_scores_mean = np.mean(test_scores, axis=1)\n",
    "test_scores_std = np.std(test_scores, axis=1)\n",
    "#Plot\n",
    "plt.fill_between(train_sizes, train_scores_mean - train_scores_std, train_scores_mean + train_scores_std, alpha=0.1, color=\"r\")\n",
    "plt.fill_between(train_sizes, test_scores_mean - test_scores_std, test_scores_mean + test_scores_std, alpha=0.1, color=\"g\")\n",
    "plt.plot(train_sizes, train_scores_mean, 'o-', color=\"r\", label=\"Training score\")\n",
    "plt.plot(train_sizes, test_scores_mean, 'o-', color=\"g\", label=\"Cross-validation score\")\n",
    "plt.show()\n",
    "\n",
    "'''\n",
    "KMeans(n_clusters=8, init='k-means++', n_init=10, max_iter=300, tol=0.0001,\n",
    "    precompute_distances='auto', verbose=0, random_state=None, copy_x=True, n_jobs=1, algorithm='auto')[source]\n",
    "'''\n",
    "clusterer = KMeans(n_clusters=2, random_state=42) #42 the seed\n",
    "cluster_labels = clusterer.fit_predict(features)\n",
    "#Silhouettes\n",
    "silhouette_avg = silhouette_score(features, cluster_labels)\n",
    "print(\"The average silhouette_score is :\", np.round(silhouette_avg,3)) #The silhouette_score gives the average value for all the samples.\n",
    "## Accuracy of the cluster\n",
    "sum(cluster_labels == labels) / len(labels)\n"
   ]
  },
  {
   "cell_type": "code",
   "execution_count": null,
   "metadata": {
    "collapsed": true
   },
   "outputs": [],
   "source": [
    "#PCA\n",
    "from sklearn.decomposition import PCA\n",
    "pca = PCA(n_components=4)\n",
    "pca.fit(stats.zscore(minmax_scale(features)))\n",
    "print(pca.explained_variance_ratio_) \n",
    "features_pca = pca.fit_transform(stats.zscore(minmax_scale(features)))"
   ]
  },
  {
   "cell_type": "markdown",
   "metadata": {},
   "source": [
    "## 10. Text"
   ]
  },
  {
   "cell_type": "code",
   "execution_count": null,
   "metadata": {
    "collapsed": true
   },
   "outputs": [],
   "source": [
    "# Collapse list of strings into a long string\n",
    "long_string = ' '.join(list_of_strings)\n",
    "\n",
    "# Generate a word cloud image\n",
    "wordcloud = WordCloud().generate(long_string)\n",
    "plt.imshow(wordcloud)\n",
    "plt.axis(\"off\")\n",
    "\n",
    "# Cleaning PIPELINE\n",
    "# Removing numbers\n",
    "body = [re.sub(r'\\d+', '', t) for t in body] #Re needed!\n",
    "\n",
    "#Tokenization\n",
    "tokens = nltk.word_tokenize(long_string)\n",
    "\n",
    "#Stopword removal\n",
    "Stop = set(stopwords.words('english'))\n",
    "extraStop = set(('re','fw','pm','am',\"n't\"))\n",
    "finalStop = Stop.union(extraStop)\n",
    "new_tokens = list()\n",
    "for token in tokens:\n",
    "    if token.lower() not in finalStop:\n",
    "        new_tokens.append(token.lower())\n",
    "        \n",
    "#Lemmatization\n",
    "lemmatizer = WordNetLemmatizer()\n",
    "lemanized = [lemmatizer.lemmatize(token) for token in new_tokens]\n",
    "\n",
    "#Stemming\n",
    "stemmer = SnowballStemmer(\"english\", ignore_stopwords=True)\n",
    "stemmed = [stemmer.stem(token) for token in new_tokens]\n",
    "\n",
    "# remove words that appear too much or too little: Starts from filtered_text (list of text sequences)\n",
    "lower_freq = 10\n",
    "upper_freq = 1000\n",
    "frequency = defaultdict(int)\n",
    "for text in filtered_text:\n",
    "    for token in text:\n",
    "        frequency[token] += 1\n",
    "texts = [[token for token in text if frequency[token] > lower_freq and frequency[token] < upper_freq and len(token) != 1]\n",
    "         for text in filtered_text]"
   ]
  },
  {
   "cell_type": "code",
   "execution_count": 255,
   "metadata": {
    "collapsed": false
   },
   "outputs": [
    {
     "name": "stdout",
     "output_type": "stream",
     "text": [
      "{'compound': 0.5719, 'pos': 0.649, 'neg': 0.0, 'neu': 0.351}\n"
     ]
    },
    {
     "data": {
      "text/plain": [
       "0.5719"
      ]
     },
     "execution_count": 255,
     "metadata": {},
     "output_type": "execute_result"
    }
   ],
   "source": [
    "#Sentiment\n",
    "sid = SentimentIntensityAnalyzer()\n",
    "print(sid.polarity_scores('happy ice cream'))\n",
    "scompound = sid.polarity_scores('happy ice cream')['compound']\n",
    "scompound"
   ]
  },
  {
   "cell_type": "code",
   "execution_count": null,
   "metadata": {
    "collapsed": true
   },
   "outputs": [],
   "source": [
    "#Topic Modeling\n",
    "#First, token + stopword removal + frequencies filtering\n",
    "min_length = 10 #get sentences with some length\n",
    "long_texts = [text for text in texts if len(text)>=min_length]\n",
    "dictionary = corpora.Dictionary(long_texts)\n",
    "corpus = [dictionary.doc2bow(long_text) for long_text in long_texts]\n",
    "num_topics = 5\n",
    "model = models.LdaModel(corpus, num_topics, id2word=dictionary)\n",
    "model.print_topics()"
   ]
  },
  {
   "cell_type": "markdown",
   "metadata": {},
   "source": [
    "## 11. Communities"
   ]
  },
  {
   "cell_type": "code",
   "execution_count": null,
   "metadata": {
    "collapsed": true
   },
   "outputs": [],
   "source": [
    "#Define edges\n",
    "edges = list(zip(df_network['SenderPersonId'],df_network['PersonId']))\n",
    "G = nx.Graph()\n",
    "G.add_edges_from(edges)\n",
    "\n",
    "#compute the best partition\n",
    "partition = community.best_partition(G)\n",
    "\n",
    "#drawing\n",
    "size = float(len(set(partition.values())))\n",
    "pos = nx.spring_layout(G)\n",
    "count = 0.\n",
    "for com in set(partition.values()) :\n",
    "    count = count + 1.\n",
    "    list_nodes = [nodes for nodes in partition.keys() if partition[nodes] == com]\n",
    "    nx.draw_networkx_nodes(G, pos, list_nodes, node_size = 20, node_color = str(count / size))\n",
    "    \n",
    "nx.draw_networkx_edges(G,pos, alpha=0.5)\n",
    "plt.show()\n",
    "\n",
    "#Look into the partition\n",
    "df_partition = pd.DataFrame([partition.keys(),partition.values()])\n",
    "df_partition = df_partition.T\n",
    "df_partition.columns = ['Id','Community_label']\n",
    "df_partition.head()"
   ]
  },
  {
   "cell_type": "markdown",
   "metadata": {},
   "source": [
    "## Numpy"
   ]
  },
  {
   "cell_type": "code",
   "execution_count": 204,
   "metadata": {
    "collapsed": false
   },
   "outputs": [
    {
     "data": {
      "text/plain": [
       "array([[ 0,  1,  2],\n",
       "       [ 3,  4,  5],\n",
       "       [ 6,  7,  8],\n",
       "       [ 9, 10, 11]])"
      ]
     },
     "execution_count": 204,
     "metadata": {},
     "output_type": "execute_result"
    }
   ],
   "source": [
    "np.log(s)\n",
    "\n",
    "np.concatenate([np.random.random(5), np.random.random(5)]) #row-wise. uniform dist. 0-1\n",
    "np.r_[np.random.random(5), np.random.random(5)] #same as before\n",
    "np.c_[np.random.random(5), np.random.random(5)] #column-wise\n",
    "\n",
    "new_order = np.random.permutation(len(df))\n",
    "\n",
    "np.arange(12).reshape(( 4, 3)) #arrange is [0 ... 11], reshape gives form"
   ]
  },
  {
   "cell_type": "markdown",
   "metadata": {},
   "source": [
    "## Extras with examples"
   ]
  },
  {
   "cell_type": "code",
   "execution_count": null,
   "metadata": {
    "collapsed": false
   },
   "outputs": [],
   "source": [
    "# List Comprehension\n",
    "squares = [x**2 for x in range(10)]\n",
    "#With lamda, map\n",
    "squares = map(lambda x: x**2, range(10))\n",
    "\n",
    "#Map\n",
    "treatment_map = {'Placebo': 0, '5000U': 1, '10000U': 2}\n",
    "cdystonia['treatment'] = cdystonia.treat.map(treatment_map)\n",
    "#or...\n",
    "cdystonia2.treat.replace({'Placebo': 0, '5000U': 1, '10000U': 2})\n",
    "\n",
    "# Apply\n",
    "df.apply(np.median,axis=0) #median of each column. 1 for rows\n",
    "df.apply(np.sum, axis=0) # equiv to df.sum(0)\n",
    "#With lambda - range of each column\n",
    "df_range = lambda x: x.max() - x.min() #here lambda takes one whole column. If applied to a Series, just one value.\n",
    "df.apply(df_range)\n",
    "\n",
    "# Datetime\n",
    "date = pd.to_datetime(df.feature1)\n",
    "year = date.year\n",
    "month = date.month\n",
    "hour = date.hour"
   ]
  },
  {
   "cell_type": "code",
   "execution_count": 153,
   "metadata": {
    "collapsed": false
   },
   "outputs": [
    {
     "name": "stdout",
     "output_type": "stream",
     "text": [
      "What is your name?  It is lancelot.\n",
      "What is your quest?  It is the holy grail.\n",
      "What is your favorite color?  It is blue.\n"
     ]
    }
   ],
   "source": [
    "# Loop with zip + print with format\n",
    "questions = ['name', 'quest', 'favorite color']\n",
    "answers = ['lancelot', 'the holy grail', 'blue']\n",
    "for q, a in zip(questions, answers):\n",
    "    print('What is your {0}?  It is {1}.'.format(q, a))"
   ]
  },
  {
   "cell_type": "code",
   "execution_count": null,
   "metadata": {
    "collapsed": true
   },
   "outputs": [],
   "source": [
    "# |Groupby|\n",
    "cdystonia_grouped = cdystonia.groupby(cdystonia.patient)\n",
    "\n",
    "#print\n",
    "for patient, group in cdystonia_grouped:\n",
    "    print('patient', patient)\n",
    "    print('group', group)\n",
    "    \n",
    "#split-apply-combine\n",
    "cdystonia_grouped.agg(np.mean)\n",
    "cdystonia_grouped.mean().add_suffix('_mean')\n",
    "#with lambda\n",
    "normalize = lambda x: (x - x.mean())/x.std()\n",
    "cdystonia_grouped.transform(normalize)\n",
    "#with apply\n",
    "def top(df, column, n=5):\n",
    "    return df.sort_values(by=column, ascending=False)[:n]\n",
    "top3segments = segments_merged.groupby('mmsi').apply(top, column='seg_length', n=3)[['names', 'seg_length']]\n",
    "\n",
    "#Groupby + Filter\n",
    "master_data = master_data.groupby('sciper').filter(lambda x: (x['semester'].count()>1) or (sum(x['semester'].isin(['1.0', '2.0']))>=2))"
   ]
  }
 ],
 "metadata": {
  "anaconda-cloud": {},
  "kernelspec": {
   "display_name": "Python [conda root]",
   "language": "python",
   "name": "conda-root-py"
  },
  "language_info": {
   "codemirror_mode": {
    "name": "ipython",
    "version": 3
   },
   "file_extension": ".py",
   "mimetype": "text/x-python",
   "name": "python",
   "nbconvert_exporter": "python",
   "pygments_lexer": "ipython3",
   "version": "3.5.2"
  }
 },
 "nbformat": 4,
 "nbformat_minor": 1
}
