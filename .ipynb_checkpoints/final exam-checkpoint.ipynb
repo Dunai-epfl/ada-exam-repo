{
 "cells": [
  {
   "cell_type": "markdown",
   "metadata": {},
   "source": [
    "# Differences between EPFL and ETHZ"
   ]
  },
  {
   "cell_type": "code",
   "execution_count": 147,
   "metadata": {
    "collapsed": true
   },
   "outputs": [],
   "source": [
    "#Basics\n",
    "import pandas as pd\n",
    "import numpy as np\n",
    "\n",
    "#Plots\n",
    "import matplotlib.pyplot as plt\n",
    "%matplotlib inline\n",
    "import seaborn as sns\n",
    "sns.set_context('notebook')\n",
    "    #sns.set_palette('Blues')\n",
    "    \n",
    "#date\n",
    "import datetime\n",
    "\n",
    "#ML\n",
    "from sklearn.model_selection import cross_val_score\n",
    "from sklearn.ensemble import RandomForestRegressor\n",
    "from sklearn.neural_network import MLPRegressor\n",
    "from sklearn import neighbors\n",
    "\n",
    "#Text\n",
    "import nltk\n",
    "from nltk.corpus import stopwords\n",
    "from wordcloud import WordCloud\n",
    "from nltk.stem import WordNetLemmatizer\n",
    "from nltk.stem.snowball import SnowballStemmer\n",
    "from nltk.sentiment.vader import SentimentIntensityAnalyzer\n",
    "from gensim import corpora, models\n",
    "from collections import defaultdict"
   ]
  },
  {
   "cell_type": "markdown",
   "metadata": {},
   "source": [
    "### 1. Loading Data"
   ]
  },
  {
   "cell_type": "code",
   "execution_count": 45,
   "metadata": {
    "collapsed": false
   },
   "outputs": [],
   "source": [
    "with open('epfl_en.json') as json_data:\n",
    "    d1 = json.load(json_data)\n",
    "    json_data.close()\n",
    "    \n",
    "with open('eth_en.json') as json_data:\n",
    "    d2 = json.load(json_data)\n",
    "    json_data.close()"
   ]
  },
  {
   "cell_type": "code",
   "execution_count": 46,
   "metadata": {
    "collapsed": false
   },
   "outputs": [
    {
     "data": {
      "text/html": [
       "<div>\n",
       "<table border=\"1\" class=\"dataframe\">\n",
       "  <thead>\n",
       "    <tr style=\"text-align: right;\">\n",
       "      <th></th>\n",
       "      <th>contributors</th>\n",
       "      <th>coordinates</th>\n",
       "      <th>created_at</th>\n",
       "      <th>entities.hashtags</th>\n",
       "      <th>entities.media</th>\n",
       "      <th>entities.symbols</th>\n",
       "      <th>entities.urls</th>\n",
       "      <th>entities.user_mentions</th>\n",
       "      <th>extended_entities.media</th>\n",
       "      <th>favorite_count</th>\n",
       "      <th>...</th>\n",
       "      <th>user.profile_text_color</th>\n",
       "      <th>user.profile_use_background_image</th>\n",
       "      <th>user.protected</th>\n",
       "      <th>user.screen_name</th>\n",
       "      <th>user.statuses_count</th>\n",
       "      <th>user.time_zone</th>\n",
       "      <th>user.translator_type</th>\n",
       "      <th>user.url</th>\n",
       "      <th>user.utc_offset</th>\n",
       "      <th>user.verified</th>\n",
       "    </tr>\n",
       "  </thead>\n",
       "  <tbody>\n",
       "    <tr>\n",
       "      <th>0</th>\n",
       "      <td>None</td>\n",
       "      <td>None</td>\n",
       "      <td>Fri Jan 27 17:00:13 +0000 2017</td>\n",
       "      <td>[{'text': 'skis', 'indices': [76, 81]}, {'text...</td>\n",
       "      <td>NaN</td>\n",
       "      <td>[]</td>\n",
       "      <td>[{'url': 'https://t.co/vx8L5fdTFn', 'display_u...</td>\n",
       "      <td>[]</td>\n",
       "      <td>NaN</td>\n",
       "      <td>1</td>\n",
       "      <td>...</td>\n",
       "      <td>333333</td>\n",
       "      <td>False</td>\n",
       "      <td>False</td>\n",
       "      <td>ETH_en</td>\n",
       "      <td>2101</td>\n",
       "      <td>Bern</td>\n",
       "      <td>none</td>\n",
       "      <td>https://t.co/QiPnZCsPZW</td>\n",
       "      <td>3600</td>\n",
       "      <td>False</td>\n",
       "    </tr>\n",
       "    <tr>\n",
       "      <th>1</th>\n",
       "      <td>None</td>\n",
       "      <td>None</td>\n",
       "      <td>Fri Jan 27 14:23:41 +0000 2017</td>\n",
       "      <td>[{'text': 'AdditiveManufacturing', 'indices': ...</td>\n",
       "      <td>NaN</td>\n",
       "      <td>[]</td>\n",
       "      <td>[{'url': 'https://t.co/YH5tZ6cSKW', 'display_u...</td>\n",
       "      <td>[{'name': 'Wiley Materials', 'id': 18305736, '...</td>\n",
       "      <td>NaN</td>\n",
       "      <td>0</td>\n",
       "      <td>...</td>\n",
       "      <td>333333</td>\n",
       "      <td>False</td>\n",
       "      <td>False</td>\n",
       "      <td>ETH_en</td>\n",
       "      <td>2101</td>\n",
       "      <td>Bern</td>\n",
       "      <td>none</td>\n",
       "      <td>https://t.co/QiPnZCsPZW</td>\n",
       "      <td>3600</td>\n",
       "      <td>False</td>\n",
       "    </tr>\n",
       "    <tr>\n",
       "      <th>2</th>\n",
       "      <td>None</td>\n",
       "      <td>None</td>\n",
       "      <td>Thu Jan 26 14:56:07 +0000 2017</td>\n",
       "      <td>[]</td>\n",
       "      <td>NaN</td>\n",
       "      <td>[]</td>\n",
       "      <td>[]</td>\n",
       "      <td>[{'name': 'Ludicious', 'id': 2454807316, 'scre...</td>\n",
       "      <td>NaN</td>\n",
       "      <td>0</td>\n",
       "      <td>...</td>\n",
       "      <td>333333</td>\n",
       "      <td>False</td>\n",
       "      <td>False</td>\n",
       "      <td>ETH_en</td>\n",
       "      <td>2101</td>\n",
       "      <td>Bern</td>\n",
       "      <td>none</td>\n",
       "      <td>https://t.co/QiPnZCsPZW</td>\n",
       "      <td>3600</td>\n",
       "      <td>False</td>\n",
       "    </tr>\n",
       "    <tr>\n",
       "      <th>3</th>\n",
       "      <td>None</td>\n",
       "      <td>None</td>\n",
       "      <td>Thu Jan 26 12:08:32 +0000 2017</td>\n",
       "      <td>[{'text': 'nuclearenvelope', 'indices': [86, 1...</td>\n",
       "      <td>NaN</td>\n",
       "      <td>[]</td>\n",
       "      <td>[]</td>\n",
       "      <td>[{'name': 'NatureRevMolCellBiol', 'id': 412933...</td>\n",
       "      <td>NaN</td>\n",
       "      <td>0</td>\n",
       "      <td>...</td>\n",
       "      <td>333333</td>\n",
       "      <td>False</td>\n",
       "      <td>False</td>\n",
       "      <td>ETH_en</td>\n",
       "      <td>2101</td>\n",
       "      <td>Bern</td>\n",
       "      <td>none</td>\n",
       "      <td>https://t.co/QiPnZCsPZW</td>\n",
       "      <td>3600</td>\n",
       "      <td>False</td>\n",
       "    </tr>\n",
       "    <tr>\n",
       "      <th>4</th>\n",
       "      <td>None</td>\n",
       "      <td>None</td>\n",
       "      <td>Wed Jan 25 17:27:30 +0000 2017</td>\n",
       "      <td>[{'text': 'AAASmtg', 'indices': [99, 107]}]</td>\n",
       "      <td>NaN</td>\n",
       "      <td>[]</td>\n",
       "      <td>[{'url': 'https://t.co/5iv06LBpRC', 'display_u...</td>\n",
       "      <td>[{'name': 'AAAS', 'id': 17292623, 'screen_name...</td>\n",
       "      <td>NaN</td>\n",
       "      <td>0</td>\n",
       "      <td>...</td>\n",
       "      <td>333333</td>\n",
       "      <td>False</td>\n",
       "      <td>False</td>\n",
       "      <td>ETH_en</td>\n",
       "      <td>2101</td>\n",
       "      <td>Bern</td>\n",
       "      <td>none</td>\n",
       "      <td>https://t.co/QiPnZCsPZW</td>\n",
       "      <td>3600</td>\n",
       "      <td>False</td>\n",
       "    </tr>\n",
       "  </tbody>\n",
       "</table>\n",
       "<p>5 rows × 312 columns</p>\n",
       "</div>"
      ],
      "text/plain": [
       "  contributors coordinates                      created_at  \\\n",
       "0         None        None  Fri Jan 27 17:00:13 +0000 2017   \n",
       "1         None        None  Fri Jan 27 14:23:41 +0000 2017   \n",
       "2         None        None  Thu Jan 26 14:56:07 +0000 2017   \n",
       "3         None        None  Thu Jan 26 12:08:32 +0000 2017   \n",
       "4         None        None  Wed Jan 25 17:27:30 +0000 2017   \n",
       "\n",
       "                                   entities.hashtags entities.media  \\\n",
       "0  [{'text': 'skis', 'indices': [76, 81]}, {'text...            NaN   \n",
       "1  [{'text': 'AdditiveManufacturing', 'indices': ...            NaN   \n",
       "2                                                 []            NaN   \n",
       "3  [{'text': 'nuclearenvelope', 'indices': [86, 1...            NaN   \n",
       "4        [{'text': 'AAASmtg', 'indices': [99, 107]}]            NaN   \n",
       "\n",
       "  entities.symbols                                      entities.urls  \\\n",
       "0               []  [{'url': 'https://t.co/vx8L5fdTFn', 'display_u...   \n",
       "1               []  [{'url': 'https://t.co/YH5tZ6cSKW', 'display_u...   \n",
       "2               []                                                 []   \n",
       "3               []                                                 []   \n",
       "4               []  [{'url': 'https://t.co/5iv06LBpRC', 'display_u...   \n",
       "\n",
       "                              entities.user_mentions extended_entities.media  \\\n",
       "0                                                 []                     NaN   \n",
       "1  [{'name': 'Wiley Materials', 'id': 18305736, '...                     NaN   \n",
       "2  [{'name': 'Ludicious', 'id': 2454807316, 'scre...                     NaN   \n",
       "3  [{'name': 'NatureRevMolCellBiol', 'id': 412933...                     NaN   \n",
       "4  [{'name': 'AAAS', 'id': 17292623, 'screen_name...                     NaN   \n",
       "\n",
       "   favorite_count      ...      user.profile_text_color  \\\n",
       "0               1      ...                       333333   \n",
       "1               0      ...                       333333   \n",
       "2               0      ...                       333333   \n",
       "3               0      ...                       333333   \n",
       "4               0      ...                       333333   \n",
       "\n",
       "  user.profile_use_background_image  user.protected user.screen_name  \\\n",
       "0                             False           False           ETH_en   \n",
       "1                             False           False           ETH_en   \n",
       "2                             False           False           ETH_en   \n",
       "3                             False           False           ETH_en   \n",
       "4                             False           False           ETH_en   \n",
       "\n",
       "  user.statuses_count  user.time_zone user.translator_type  \\\n",
       "0                2101            Bern                 none   \n",
       "1                2101            Bern                 none   \n",
       "2                2101            Bern                 none   \n",
       "3                2101            Bern                 none   \n",
       "4                2101            Bern                 none   \n",
       "\n",
       "                  user.url user.utc_offset user.verified  \n",
       "0  https://t.co/QiPnZCsPZW            3600         False  \n",
       "1  https://t.co/QiPnZCsPZW            3600         False  \n",
       "2  https://t.co/QiPnZCsPZW            3600         False  \n",
       "3  https://t.co/QiPnZCsPZW            3600         False  \n",
       "4  https://t.co/QiPnZCsPZW            3600         False  \n",
       "\n",
       "[5 rows x 312 columns]"
      ]
     },
     "execution_count": 46,
     "metadata": {},
     "output_type": "execute_result"
    }
   ],
   "source": [
    "df1 = pd.io.json.json_normalize(d1)\n",
    "df2 = pd.io.json.json_normalize(d2)\n",
    "df2.head()"
   ]
  },
  {
   "cell_type": "markdown",
   "metadata": {},
   "source": [
    "### 2. Preprocessing"
   ]
  },
  {
   "cell_type": "code",
   "execution_count": 47,
   "metadata": {
    "collapsed": false
   },
   "outputs": [
    {
     "data": {
      "text/html": [
       "<div>\n",
       "<table border=\"1\" class=\"dataframe\">\n",
       "  <thead>\n",
       "    <tr style=\"text-align: right;\">\n",
       "      <th></th>\n",
       "      <th>contributors</th>\n",
       "      <th>coordinates</th>\n",
       "      <th>coordinates.coordinates</th>\n",
       "      <th>coordinates.type</th>\n",
       "      <th>created_at</th>\n",
       "      <th>entities.hashtags</th>\n",
       "      <th>entities.media</th>\n",
       "      <th>entities.symbols</th>\n",
       "      <th>entities.urls</th>\n",
       "      <th>entities.user_mentions</th>\n",
       "      <th>...</th>\n",
       "      <th>user.profile_text_color</th>\n",
       "      <th>user.profile_use_background_image</th>\n",
       "      <th>user.protected</th>\n",
       "      <th>user.screen_name</th>\n",
       "      <th>user.statuses_count</th>\n",
       "      <th>user.time_zone</th>\n",
       "      <th>user.translator_type</th>\n",
       "      <th>user.url</th>\n",
       "      <th>user.utc_offset</th>\n",
       "      <th>user.verified</th>\n",
       "    </tr>\n",
       "  </thead>\n",
       "  <tbody>\n",
       "    <tr>\n",
       "      <th>46</th>\n",
       "      <td>None</td>\n",
       "      <td>NaN</td>\n",
       "      <td>NaN</td>\n",
       "      <td>NaN</td>\n",
       "      <td>Tue Jan 10 18:01:00 +0000 2017</td>\n",
       "      <td>[{'text': 'VDtech', 'indices': [114, 121]}]</td>\n",
       "      <td>NaN</td>\n",
       "      <td>[]</td>\n",
       "      <td>[{'url': 'https://t.co/vSgwLEyjC7', 'display_u...</td>\n",
       "      <td>[{'name': 'Innovaud', 'id': 518311705, 'screen...</td>\n",
       "      <td>...</td>\n",
       "      <td>333333</td>\n",
       "      <td>True</td>\n",
       "      <td>False</td>\n",
       "      <td>EPFL_en</td>\n",
       "      <td>3472</td>\n",
       "      <td>Paris</td>\n",
       "      <td>none</td>\n",
       "      <td>http://t.co/K9YBHAhfYz</td>\n",
       "      <td>3600</td>\n",
       "      <td>True</td>\n",
       "    </tr>\n",
       "    <tr>\n",
       "      <th>71</th>\n",
       "      <td>None</td>\n",
       "      <td>NaN</td>\n",
       "      <td>NaN</td>\n",
       "      <td>NaN</td>\n",
       "      <td>Thu Dec 22 13:02:12 +0000 2016</td>\n",
       "      <td>[]</td>\n",
       "      <td>NaN</td>\n",
       "      <td>[]</td>\n",
       "      <td>[{'url': 'https://t.co/ca0VAgIfM9', 'display_u...</td>\n",
       "      <td>[{'name': 'CODEV', 'id': 2162891472, 'screen_n...</td>\n",
       "      <td>...</td>\n",
       "      <td>333333</td>\n",
       "      <td>True</td>\n",
       "      <td>False</td>\n",
       "      <td>EPFL_en</td>\n",
       "      <td>3472</td>\n",
       "      <td>Paris</td>\n",
       "      <td>none</td>\n",
       "      <td>http://t.co/K9YBHAhfYz</td>\n",
       "      <td>3600</td>\n",
       "      <td>True</td>\n",
       "    </tr>\n",
       "    <tr>\n",
       "      <th>127</th>\n",
       "      <td>None</td>\n",
       "      <td>NaN</td>\n",
       "      <td>NaN</td>\n",
       "      <td>NaN</td>\n",
       "      <td>Thu Nov 24 08:25:04 +0000 2016</td>\n",
       "      <td>[]</td>\n",
       "      <td>NaN</td>\n",
       "      <td>[]</td>\n",
       "      <td>[{'url': 'https://t.co/GMybmDCq8U', 'display_u...</td>\n",
       "      <td>[]</td>\n",
       "      <td>...</td>\n",
       "      <td>333333</td>\n",
       "      <td>True</td>\n",
       "      <td>False</td>\n",
       "      <td>EPFL_en</td>\n",
       "      <td>3472</td>\n",
       "      <td>Paris</td>\n",
       "      <td>none</td>\n",
       "      <td>http://t.co/K9YBHAhfYz</td>\n",
       "      <td>3600</td>\n",
       "      <td>True</td>\n",
       "    </tr>\n",
       "    <tr>\n",
       "      <th>168</th>\n",
       "      <td>None</td>\n",
       "      <td>NaN</td>\n",
       "      <td>NaN</td>\n",
       "      <td>NaN</td>\n",
       "      <td>Sun Nov 06 15:22:55 +0000 2016</td>\n",
       "      <td>[{'text': 'PortesOuvertesEPFL', 'indices': [79...</td>\n",
       "      <td>[{'display_url': 'pic.twitter.com/pK5TVxWbqR',...</td>\n",
       "      <td>[]</td>\n",
       "      <td>[]</td>\n",
       "      <td>[]</td>\n",
       "      <td>...</td>\n",
       "      <td>333333</td>\n",
       "      <td>True</td>\n",
       "      <td>False</td>\n",
       "      <td>EPFL_en</td>\n",
       "      <td>3472</td>\n",
       "      <td>Paris</td>\n",
       "      <td>none</td>\n",
       "      <td>http://t.co/K9YBHAhfYz</td>\n",
       "      <td>3600</td>\n",
       "      <td>True</td>\n",
       "    </tr>\n",
       "    <tr>\n",
       "      <th>174</th>\n",
       "      <td>None</td>\n",
       "      <td>NaN</td>\n",
       "      <td>NaN</td>\n",
       "      <td>NaN</td>\n",
       "      <td>Sun Nov 06 13:10:45 +0000 2016</td>\n",
       "      <td>[{'text': 'neurotech', 'indices': [123, 133]}]</td>\n",
       "      <td>NaN</td>\n",
       "      <td>[]</td>\n",
       "      <td>[]</td>\n",
       "      <td>[{'name': 'Wyss Center', 'id': 3385537149, 'sc...</td>\n",
       "      <td>...</td>\n",
       "      <td>333333</td>\n",
       "      <td>True</td>\n",
       "      <td>False</td>\n",
       "      <td>EPFL_en</td>\n",
       "      <td>3472</td>\n",
       "      <td>Paris</td>\n",
       "      <td>none</td>\n",
       "      <td>http://t.co/K9YBHAhfYz</td>\n",
       "      <td>3600</td>\n",
       "      <td>True</td>\n",
       "    </tr>\n",
       "  </tbody>\n",
       "</table>\n",
       "<p>5 rows × 336 columns</p>\n",
       "</div>"
      ],
      "text/plain": [
       "    contributors  coordinates coordinates.coordinates coordinates.type  \\\n",
       "46          None          NaN                     NaN              NaN   \n",
       "71          None          NaN                     NaN              NaN   \n",
       "127         None          NaN                     NaN              NaN   \n",
       "168         None          NaN                     NaN              NaN   \n",
       "174         None          NaN                     NaN              NaN   \n",
       "\n",
       "                         created_at  \\\n",
       "46   Tue Jan 10 18:01:00 +0000 2017   \n",
       "71   Thu Dec 22 13:02:12 +0000 2016   \n",
       "127  Thu Nov 24 08:25:04 +0000 2016   \n",
       "168  Sun Nov 06 15:22:55 +0000 2016   \n",
       "174  Sun Nov 06 13:10:45 +0000 2016   \n",
       "\n",
       "                                     entities.hashtags  \\\n",
       "46         [{'text': 'VDtech', 'indices': [114, 121]}]   \n",
       "71                                                  []   \n",
       "127                                                 []   \n",
       "168  [{'text': 'PortesOuvertesEPFL', 'indices': [79...   \n",
       "174     [{'text': 'neurotech', 'indices': [123, 133]}]   \n",
       "\n",
       "                                        entities.media entities.symbols  \\\n",
       "46                                                 NaN               []   \n",
       "71                                                 NaN               []   \n",
       "127                                                NaN               []   \n",
       "168  [{'display_url': 'pic.twitter.com/pK5TVxWbqR',...               []   \n",
       "174                                                NaN               []   \n",
       "\n",
       "                                         entities.urls  \\\n",
       "46   [{'url': 'https://t.co/vSgwLEyjC7', 'display_u...   \n",
       "71   [{'url': 'https://t.co/ca0VAgIfM9', 'display_u...   \n",
       "127  [{'url': 'https://t.co/GMybmDCq8U', 'display_u...   \n",
       "168                                                 []   \n",
       "174                                                 []   \n",
       "\n",
       "                                entities.user_mentions      ...        \\\n",
       "46   [{'name': 'Innovaud', 'id': 518311705, 'screen...      ...         \n",
       "71   [{'name': 'CODEV', 'id': 2162891472, 'screen_n...      ...         \n",
       "127                                                 []      ...         \n",
       "168                                                 []      ...         \n",
       "174  [{'name': 'Wyss Center', 'id': 3385537149, 'sc...      ...         \n",
       "\n",
       "    user.profile_text_color  user.profile_use_background_image user.protected  \\\n",
       "46                   333333                               True          False   \n",
       "71                   333333                               True          False   \n",
       "127                  333333                               True          False   \n",
       "168                  333333                               True          False   \n",
       "174                  333333                               True          False   \n",
       "\n",
       "     user.screen_name user.statuses_count user.time_zone  \\\n",
       "46            EPFL_en                3472          Paris   \n",
       "71            EPFL_en                3472          Paris   \n",
       "127           EPFL_en                3472          Paris   \n",
       "168           EPFL_en                3472          Paris   \n",
       "174           EPFL_en                3472          Paris   \n",
       "\n",
       "     user.translator_type                user.url user.utc_offset  \\\n",
       "46                   none  http://t.co/K9YBHAhfYz            3600   \n",
       "71                   none  http://t.co/K9YBHAhfYz            3600   \n",
       "127                  none  http://t.co/K9YBHAhfYz            3600   \n",
       "168                  none  http://t.co/K9YBHAhfYz            3600   \n",
       "174                  none  http://t.co/K9YBHAhfYz            3600   \n",
       "\n",
       "     user.verified  \n",
       "46            True  \n",
       "71            True  \n",
       "127           True  \n",
       "168           True  \n",
       "174           True  \n",
       "\n",
       "[5 rows x 336 columns]"
      ]
     },
     "execution_count": 47,
     "metadata": {},
     "output_type": "execute_result"
    }
   ],
   "source": [
    "LAST_DIGIT_OF_YOUR_SCIPER_NUMBER = 1\n",
    "df1s = df1[df1.id%10 == LAST_DIGIT_OF_YOUR_SCIPER_NUMBER]\n",
    "df2s = df2[df2.id%10 == LAST_DIGIT_OF_YOUR_SCIPER_NUMBER]\n",
    "df1s.head()"
   ]
  },
  {
   "cell_type": "markdown",
   "metadata": {},
   "source": [
    "### 3.Perform Data Wrangling"
   ]
  },
  {
   "cell_type": "code",
   "execution_count": 48,
   "metadata": {
    "collapsed": false
   },
   "outputs": [
    {
     "data": {
      "text/plain": [
       "(3208, 336)"
      ]
     },
     "execution_count": 48,
     "metadata": {},
     "output_type": "execute_result"
    }
   ],
   "source": [
    "df1.shape"
   ]
  },
  {
   "cell_type": "code",
   "execution_count": 49,
   "metadata": {
    "collapsed": false
   },
   "outputs": [
    {
     "data": {
      "text/plain": [
       "(2101, 312)"
      ]
     },
     "execution_count": 49,
     "metadata": {},
     "output_type": "execute_result"
    }
   ],
   "source": [
    "df2.shape"
   ]
  },
  {
   "cell_type": "markdown",
   "metadata": {},
   "source": [
    "More from epfl! Even more fields!"
   ]
  },
  {
   "cell_type": "code",
   "execution_count": 50,
   "metadata": {
    "collapsed": false
   },
   "outputs": [
    {
     "name": "stderr",
     "output_type": "stream",
     "text": [
      "C:\\Users\\dunay\\Anaconda3\\lib\\site-packages\\numpy\\lib\\function_base.py:3834: RuntimeWarning: Invalid value encountered in percentile\n",
      "  RuntimeWarning)\n"
     ]
    },
    {
     "data": {
      "text/html": [
       "<div>\n",
       "<table border=\"1\" class=\"dataframe\">\n",
       "  <thead>\n",
       "    <tr style=\"text-align: right;\">\n",
       "      <th></th>\n",
       "      <th>coordinates</th>\n",
       "      <th>favorite_count</th>\n",
       "      <th>geo</th>\n",
       "      <th>id</th>\n",
       "      <th>in_reply_to_status_id</th>\n",
       "      <th>in_reply_to_user_id</th>\n",
       "      <th>place</th>\n",
       "      <th>quoted_status.contributors</th>\n",
       "      <th>quoted_status.coordinates</th>\n",
       "      <th>quoted_status.favorite_count</th>\n",
       "      <th>...</th>\n",
       "      <th>retweeted_status.user.listed_count</th>\n",
       "      <th>retweeted_status.user.statuses_count</th>\n",
       "      <th>retweeted_status.user.utc_offset</th>\n",
       "      <th>user.favourites_count</th>\n",
       "      <th>user.followers_count</th>\n",
       "      <th>user.friends_count</th>\n",
       "      <th>user.id</th>\n",
       "      <th>user.listed_count</th>\n",
       "      <th>user.statuses_count</th>\n",
       "      <th>user.utc_offset</th>\n",
       "    </tr>\n",
       "  </thead>\n",
       "  <tbody>\n",
       "    <tr>\n",
       "      <th>count</th>\n",
       "      <td>0.0</td>\n",
       "      <td>3208.000000</td>\n",
       "      <td>0.0</td>\n",
       "      <td>3.208000e+03</td>\n",
       "      <td>2.320000e+02</td>\n",
       "      <td>2.890000e+02</td>\n",
       "      <td>0.0</td>\n",
       "      <td>0.0</td>\n",
       "      <td>0.0</td>\n",
       "      <td>17.000000</td>\n",
       "      <td>...</td>\n",
       "      <td>767.000000</td>\n",
       "      <td>767.000000</td>\n",
       "      <td>708.000000</td>\n",
       "      <td>3208.0</td>\n",
       "      <td>3208.0</td>\n",
       "      <td>3208.0</td>\n",
       "      <td>3208.0</td>\n",
       "      <td>3208.0</td>\n",
       "      <td>3208.0</td>\n",
       "      <td>3208.0</td>\n",
       "    </tr>\n",
       "    <tr>\n",
       "      <th>mean</th>\n",
       "      <td>NaN</td>\n",
       "      <td>1.192643</td>\n",
       "      <td>NaN</td>\n",
       "      <td>4.363864e+17</td>\n",
       "      <td>3.149188e+17</td>\n",
       "      <td>1.322358e+16</td>\n",
       "      <td>NaN</td>\n",
       "      <td>NaN</td>\n",
       "      <td>NaN</td>\n",
       "      <td>20.294118</td>\n",
       "      <td>...</td>\n",
       "      <td>1526.998696</td>\n",
       "      <td>12730.397653</td>\n",
       "      <td>-6465.254237</td>\n",
       "      <td>821.0</td>\n",
       "      <td>21447.0</td>\n",
       "      <td>863.0</td>\n",
       "      <td>104604540.0</td>\n",
       "      <td>464.0</td>\n",
       "      <td>3472.0</td>\n",
       "      <td>3600.0</td>\n",
       "    </tr>\n",
       "    <tr>\n",
       "      <th>std</th>\n",
       "      <td>NaN</td>\n",
       "      <td>2.814000</td>\n",
       "      <td>NaN</td>\n",
       "      <td>2.471225e+17</td>\n",
       "      <td>1.336398e+17</td>\n",
       "      <td>9.984776e+16</td>\n",
       "      <td>NaN</td>\n",
       "      <td>NaN</td>\n",
       "      <td>NaN</td>\n",
       "      <td>46.902512</td>\n",
       "      <td>...</td>\n",
       "      <td>6853.345407</td>\n",
       "      <td>31542.028228</td>\n",
       "      <td>14860.310678</td>\n",
       "      <td>0.0</td>\n",
       "      <td>0.0</td>\n",
       "      <td>0.0</td>\n",
       "      <td>0.0</td>\n",
       "      <td>0.0</td>\n",
       "      <td>0.0</td>\n",
       "      <td>0.0</td>\n",
       "    </tr>\n",
       "    <tr>\n",
       "      <th>min</th>\n",
       "      <td>NaN</td>\n",
       "      <td>0.000000</td>\n",
       "      <td>NaN</td>\n",
       "      <td>8.773885e+15</td>\n",
       "      <td>2.485129e+16</td>\n",
       "      <td>6.124730e+05</td>\n",
       "      <td>NaN</td>\n",
       "      <td>NaN</td>\n",
       "      <td>NaN</td>\n",
       "      <td>2.000000</td>\n",
       "      <td>...</td>\n",
       "      <td>0.000000</td>\n",
       "      <td>4.000000</td>\n",
       "      <td>-39600.000000</td>\n",
       "      <td>821.0</td>\n",
       "      <td>21447.0</td>\n",
       "      <td>863.0</td>\n",
       "      <td>104604540.0</td>\n",
       "      <td>464.0</td>\n",
       "      <td>3472.0</td>\n",
       "      <td>3600.0</td>\n",
       "    </tr>\n",
       "    <tr>\n",
       "      <th>25%</th>\n",
       "      <td>NaN</td>\n",
       "      <td>0.000000</td>\n",
       "      <td>NaN</td>\n",
       "      <td>2.535212e+17</td>\n",
       "      <td>NaN</td>\n",
       "      <td>NaN</td>\n",
       "      <td>NaN</td>\n",
       "      <td>NaN</td>\n",
       "      <td>NaN</td>\n",
       "      <td>NaN</td>\n",
       "      <td>...</td>\n",
       "      <td>NaN</td>\n",
       "      <td>NaN</td>\n",
       "      <td>NaN</td>\n",
       "      <td>821.0</td>\n",
       "      <td>21447.0</td>\n",
       "      <td>863.0</td>\n",
       "      <td>104604540.0</td>\n",
       "      <td>464.0</td>\n",
       "      <td>3472.0</td>\n",
       "      <td>3600.0</td>\n",
       "    </tr>\n",
       "    <tr>\n",
       "      <th>50%</th>\n",
       "      <td>NaN</td>\n",
       "      <td>0.000000</td>\n",
       "      <td>NaN</td>\n",
       "      <td>3.983257e+17</td>\n",
       "      <td>NaN</td>\n",
       "      <td>NaN</td>\n",
       "      <td>NaN</td>\n",
       "      <td>NaN</td>\n",
       "      <td>NaN</td>\n",
       "      <td>NaN</td>\n",
       "      <td>...</td>\n",
       "      <td>NaN</td>\n",
       "      <td>NaN</td>\n",
       "      <td>NaN</td>\n",
       "      <td>821.0</td>\n",
       "      <td>21447.0</td>\n",
       "      <td>863.0</td>\n",
       "      <td>104604540.0</td>\n",
       "      <td>464.0</td>\n",
       "      <td>3472.0</td>\n",
       "      <td>3600.0</td>\n",
       "    </tr>\n",
       "    <tr>\n",
       "      <th>75%</th>\n",
       "      <td>NaN</td>\n",
       "      <td>1.000000</td>\n",
       "      <td>NaN</td>\n",
       "      <td>6.728088e+17</td>\n",
       "      <td>NaN</td>\n",
       "      <td>NaN</td>\n",
       "      <td>NaN</td>\n",
       "      <td>NaN</td>\n",
       "      <td>NaN</td>\n",
       "      <td>NaN</td>\n",
       "      <td>...</td>\n",
       "      <td>NaN</td>\n",
       "      <td>NaN</td>\n",
       "      <td>NaN</td>\n",
       "      <td>821.0</td>\n",
       "      <td>21447.0</td>\n",
       "      <td>863.0</td>\n",
       "      <td>104604540.0</td>\n",
       "      <td>464.0</td>\n",
       "      <td>3472.0</td>\n",
       "      <td>3600.0</td>\n",
       "    </tr>\n",
       "    <tr>\n",
       "      <th>max</th>\n",
       "      <td>NaN</td>\n",
       "      <td>31.000000</td>\n",
       "      <td>NaN</td>\n",
       "      <td>8.246758e+17</td>\n",
       "      <td>8.108852e+17</td>\n",
       "      <td>7.742841e+17</td>\n",
       "      <td>NaN</td>\n",
       "      <td>NaN</td>\n",
       "      <td>NaN</td>\n",
       "      <td>201.000000</td>\n",
       "      <td>...</td>\n",
       "      <td>108315.000000</td>\n",
       "      <td>612129.000000</td>\n",
       "      <td>46800.000000</td>\n",
       "      <td>821.0</td>\n",
       "      <td>21447.0</td>\n",
       "      <td>863.0</td>\n",
       "      <td>104604540.0</td>\n",
       "      <td>464.0</td>\n",
       "      <td>3472.0</td>\n",
       "      <td>3600.0</td>\n",
       "    </tr>\n",
       "  </tbody>\n",
       "</table>\n",
       "<p>8 rows × 71 columns</p>\n",
       "</div>"
      ],
      "text/plain": [
       "       coordinates  favorite_count  geo            id  in_reply_to_status_id  \\\n",
       "count          0.0     3208.000000  0.0  3.208000e+03           2.320000e+02   \n",
       "mean           NaN        1.192643  NaN  4.363864e+17           3.149188e+17   \n",
       "std            NaN        2.814000  NaN  2.471225e+17           1.336398e+17   \n",
       "min            NaN        0.000000  NaN  8.773885e+15           2.485129e+16   \n",
       "25%            NaN        0.000000  NaN  2.535212e+17                    NaN   \n",
       "50%            NaN        0.000000  NaN  3.983257e+17                    NaN   \n",
       "75%            NaN        1.000000  NaN  6.728088e+17                    NaN   \n",
       "max            NaN       31.000000  NaN  8.246758e+17           8.108852e+17   \n",
       "\n",
       "       in_reply_to_user_id  place  quoted_status.contributors  \\\n",
       "count         2.890000e+02    0.0                         0.0   \n",
       "mean          1.322358e+16    NaN                         NaN   \n",
       "std           9.984776e+16    NaN                         NaN   \n",
       "min           6.124730e+05    NaN                         NaN   \n",
       "25%                    NaN    NaN                         NaN   \n",
       "50%                    NaN    NaN                         NaN   \n",
       "75%                    NaN    NaN                         NaN   \n",
       "max           7.742841e+17    NaN                         NaN   \n",
       "\n",
       "       quoted_status.coordinates  quoted_status.favorite_count  \\\n",
       "count                        0.0                     17.000000   \n",
       "mean                         NaN                     20.294118   \n",
       "std                          NaN                     46.902512   \n",
       "min                          NaN                      2.000000   \n",
       "25%                          NaN                           NaN   \n",
       "50%                          NaN                           NaN   \n",
       "75%                          NaN                           NaN   \n",
       "max                          NaN                    201.000000   \n",
       "\n",
       "            ...         retweeted_status.user.listed_count  \\\n",
       "count       ...                                 767.000000   \n",
       "mean        ...                                1526.998696   \n",
       "std         ...                                6853.345407   \n",
       "min         ...                                   0.000000   \n",
       "25%         ...                                        NaN   \n",
       "50%         ...                                        NaN   \n",
       "75%         ...                                        NaN   \n",
       "max         ...                              108315.000000   \n",
       "\n",
       "       retweeted_status.user.statuses_count  retweeted_status.user.utc_offset  \\\n",
       "count                            767.000000                        708.000000   \n",
       "mean                           12730.397653                      -6465.254237   \n",
       "std                            31542.028228                      14860.310678   \n",
       "min                                4.000000                     -39600.000000   \n",
       "25%                                     NaN                               NaN   \n",
       "50%                                     NaN                               NaN   \n",
       "75%                                     NaN                               NaN   \n",
       "max                           612129.000000                      46800.000000   \n",
       "\n",
       "       user.favourites_count  user.followers_count  user.friends_count  \\\n",
       "count                 3208.0                3208.0              3208.0   \n",
       "mean                   821.0               21447.0               863.0   \n",
       "std                      0.0                   0.0                 0.0   \n",
       "min                    821.0               21447.0               863.0   \n",
       "25%                    821.0               21447.0               863.0   \n",
       "50%                    821.0               21447.0               863.0   \n",
       "75%                    821.0               21447.0               863.0   \n",
       "max                    821.0               21447.0               863.0   \n",
       "\n",
       "           user.id  user.listed_count  user.statuses_count  user.utc_offset  \n",
       "count       3208.0             3208.0               3208.0           3208.0  \n",
       "mean   104604540.0              464.0               3472.0           3600.0  \n",
       "std            0.0                0.0                  0.0              0.0  \n",
       "min    104604540.0              464.0               3472.0           3600.0  \n",
       "25%    104604540.0              464.0               3472.0           3600.0  \n",
       "50%    104604540.0              464.0               3472.0           3600.0  \n",
       "75%    104604540.0              464.0               3472.0           3600.0  \n",
       "max    104604540.0              464.0               3472.0           3600.0  \n",
       "\n",
       "[8 rows x 71 columns]"
      ]
     },
     "execution_count": 50,
     "metadata": {},
     "output_type": "execute_result"
    }
   ],
   "source": [
    "df1.describe()"
   ]
  },
  {
   "cell_type": "markdown",
   "metadata": {},
   "source": [
    "A lot of missing information"
   ]
  },
  {
   "cell_type": "code",
   "execution_count": 51,
   "metadata": {
    "collapsed": false
   },
   "outputs": [
    {
     "name": "stderr",
     "output_type": "stream",
     "text": [
      "C:\\Users\\dunay\\Anaconda3\\lib\\site-packages\\ipykernel\\__main__.py:3: SettingWithCopyWarning: \n",
      "A value is trying to be set on a copy of a slice from a DataFrame\n",
      "\n",
      "See the caveats in the documentation: http://pandas.pydata.org/pandas-docs/stable/indexing.html#indexing-view-versus-copy\n",
      "  app.launch_new_instance()\n",
      "C:\\Users\\dunay\\Anaconda3\\lib\\site-packages\\ipykernel\\__main__.py:5: SettingWithCopyWarning: \n",
      "A value is trying to be set on a copy of a slice from a DataFrame\n",
      "\n",
      "See the caveats in the documentation: http://pandas.pydata.org/pandas-docs/stable/indexing.html#indexing-view-versus-copy\n"
     ]
    }
   ],
   "source": [
    "#Cleaning columns with  NaN\n",
    "df1.dropna(how='any', axis=1, inplace=True) # 0 rows, 1 columns. how={‘any’, ‘all’}. thresh=xxx\n",
    "df1s.dropna(how='any', axis=1, inplace=True) # 0 rows, 1 columns. how={‘any’, ‘all’}. thresh=xxx \n",
    "df2.dropna(how='any', axis=1, inplace=True) # 0 rows, 1 columns. how={‘any’, ‘all’}. thresh=xxx \n",
    "df2s.dropna(how='any', axis=1, inplace=True) # 0 rows, 1 columns. how={‘any’, ‘all’}. thresh=xxx\n",
    "\n",
    "#Because if we drop the instances with NaNs we drop EVERYTHING!"
   ]
  },
  {
   "cell_type": "code",
   "execution_count": 55,
   "metadata": {
    "collapsed": false
   },
   "outputs": [
    {
     "data": {
      "text/plain": [
       "Index(['created_at', 'entities.hashtags', 'entities.symbols', 'entities.urls',\n",
       "       'entities.user_mentions', 'favorite_count', 'favorited', 'id', 'id_str',\n",
       "       'is_quote_status', 'lang', 'retweet_count', 'retweeted', 'source',\n",
       "       'text', 'truncated', 'user.contributors_enabled', 'user.created_at',\n",
       "       'user.default_profile', 'user.default_profile_image',\n",
       "       'user.description', 'user.entities.description.urls',\n",
       "       'user.entities.url.urls', 'user.favourites_count',\n",
       "       'user.follow_request_sent', 'user.followers_count', 'user.following',\n",
       "       'user.friends_count', 'user.geo_enabled', 'user.has_extended_profile',\n",
       "       'user.id', 'user.id_str', 'user.is_translation_enabled',\n",
       "       'user.is_translator', 'user.lang', 'user.listed_count', 'user.location',\n",
       "       'user.name', 'user.notifications', 'user.profile_background_color',\n",
       "       'user.profile_background_image_url',\n",
       "       'user.profile_background_image_url_https',\n",
       "       'user.profile_background_tile', 'user.profile_banner_url',\n",
       "       'user.profile_image_url', 'user.profile_image_url_https',\n",
       "       'user.profile_link_color', 'user.profile_sidebar_border_color',\n",
       "       'user.profile_sidebar_fill_color', 'user.profile_text_color',\n",
       "       'user.profile_use_background_image', 'user.protected',\n",
       "       'user.screen_name', 'user.statuses_count', 'user.time_zone',\n",
       "       'user.translator_type', 'user.url', 'user.utc_offset', 'user.verified'],\n",
       "      dtype='object')"
      ]
     },
     "execution_count": 55,
     "metadata": {},
     "output_type": "execute_result"
    }
   ],
   "source": [
    "#We are left with these features\n",
    "df1.columns"
   ]
  },
  {
   "cell_type": "code",
   "execution_count": 52,
   "metadata": {
    "collapsed": false
   },
   "outputs": [
    {
     "data": {
      "text/plain": [
       "(3208, 59)"
      ]
     },
     "execution_count": 52,
     "metadata": {},
     "output_type": "execute_result"
    }
   ],
   "source": [
    "df1.shape"
   ]
  },
  {
   "cell_type": "code",
   "execution_count": 53,
   "metadata": {
    "collapsed": false
   },
   "outputs": [
    {
     "data": {
      "text/html": [
       "<div>\n",
       "<table border=\"1\" class=\"dataframe\">\n",
       "  <thead>\n",
       "    <tr style=\"text-align: right;\">\n",
       "      <th></th>\n",
       "      <th>favorite_count</th>\n",
       "      <th>id</th>\n",
       "      <th>retweet_count</th>\n",
       "      <th>user.favourites_count</th>\n",
       "      <th>user.followers_count</th>\n",
       "      <th>user.friends_count</th>\n",
       "      <th>user.id</th>\n",
       "      <th>user.listed_count</th>\n",
       "      <th>user.statuses_count</th>\n",
       "      <th>user.utc_offset</th>\n",
       "    </tr>\n",
       "  </thead>\n",
       "  <tbody>\n",
       "    <tr>\n",
       "      <th>count</th>\n",
       "      <td>3208.000000</td>\n",
       "      <td>3.208000e+03</td>\n",
       "      <td>3208.000000</td>\n",
       "      <td>3208.0</td>\n",
       "      <td>3208.0</td>\n",
       "      <td>3208.0</td>\n",
       "      <td>3208.0</td>\n",
       "      <td>3208.0</td>\n",
       "      <td>3208.0</td>\n",
       "      <td>3208.0</td>\n",
       "    </tr>\n",
       "    <tr>\n",
       "      <th>mean</th>\n",
       "      <td>1.192643</td>\n",
       "      <td>4.363864e+17</td>\n",
       "      <td>6.120324</td>\n",
       "      <td>821.0</td>\n",
       "      <td>21447.0</td>\n",
       "      <td>863.0</td>\n",
       "      <td>104604540.0</td>\n",
       "      <td>464.0</td>\n",
       "      <td>3472.0</td>\n",
       "      <td>3600.0</td>\n",
       "    </tr>\n",
       "    <tr>\n",
       "      <th>std</th>\n",
       "      <td>2.814000</td>\n",
       "      <td>2.471225e+17</td>\n",
       "      <td>112.535270</td>\n",
       "      <td>0.0</td>\n",
       "      <td>0.0</td>\n",
       "      <td>0.0</td>\n",
       "      <td>0.0</td>\n",
       "      <td>0.0</td>\n",
       "      <td>0.0</td>\n",
       "      <td>0.0</td>\n",
       "    </tr>\n",
       "    <tr>\n",
       "      <th>min</th>\n",
       "      <td>0.000000</td>\n",
       "      <td>8.773885e+15</td>\n",
       "      <td>0.000000</td>\n",
       "      <td>821.0</td>\n",
       "      <td>21447.0</td>\n",
       "      <td>863.0</td>\n",
       "      <td>104604540.0</td>\n",
       "      <td>464.0</td>\n",
       "      <td>3472.0</td>\n",
       "      <td>3600.0</td>\n",
       "    </tr>\n",
       "    <tr>\n",
       "      <th>25%</th>\n",
       "      <td>0.000000</td>\n",
       "      <td>2.535212e+17</td>\n",
       "      <td>0.000000</td>\n",
       "      <td>821.0</td>\n",
       "      <td>21447.0</td>\n",
       "      <td>863.0</td>\n",
       "      <td>104604540.0</td>\n",
       "      <td>464.0</td>\n",
       "      <td>3472.0</td>\n",
       "      <td>3600.0</td>\n",
       "    </tr>\n",
       "    <tr>\n",
       "      <th>50%</th>\n",
       "      <td>0.000000</td>\n",
       "      <td>3.983257e+17</td>\n",
       "      <td>2.000000</td>\n",
       "      <td>821.0</td>\n",
       "      <td>21447.0</td>\n",
       "      <td>863.0</td>\n",
       "      <td>104604540.0</td>\n",
       "      <td>464.0</td>\n",
       "      <td>3472.0</td>\n",
       "      <td>3600.0</td>\n",
       "    </tr>\n",
       "    <tr>\n",
       "      <th>75%</th>\n",
       "      <td>1.000000</td>\n",
       "      <td>6.728088e+17</td>\n",
       "      <td>4.000000</td>\n",
       "      <td>821.0</td>\n",
       "      <td>21447.0</td>\n",
       "      <td>863.0</td>\n",
       "      <td>104604540.0</td>\n",
       "      <td>464.0</td>\n",
       "      <td>3472.0</td>\n",
       "      <td>3600.0</td>\n",
       "    </tr>\n",
       "    <tr>\n",
       "      <th>max</th>\n",
       "      <td>31.000000</td>\n",
       "      <td>8.246758e+17</td>\n",
       "      <td>6095.000000</td>\n",
       "      <td>821.0</td>\n",
       "      <td>21447.0</td>\n",
       "      <td>863.0</td>\n",
       "      <td>104604540.0</td>\n",
       "      <td>464.0</td>\n",
       "      <td>3472.0</td>\n",
       "      <td>3600.0</td>\n",
       "    </tr>\n",
       "  </tbody>\n",
       "</table>\n",
       "</div>"
      ],
      "text/plain": [
       "       favorite_count            id  retweet_count  user.favourites_count  \\\n",
       "count     3208.000000  3.208000e+03    3208.000000                 3208.0   \n",
       "mean         1.192643  4.363864e+17       6.120324                  821.0   \n",
       "std          2.814000  2.471225e+17     112.535270                    0.0   \n",
       "min          0.000000  8.773885e+15       0.000000                  821.0   \n",
       "25%          0.000000  2.535212e+17       0.000000                  821.0   \n",
       "50%          0.000000  3.983257e+17       2.000000                  821.0   \n",
       "75%          1.000000  6.728088e+17       4.000000                  821.0   \n",
       "max         31.000000  8.246758e+17    6095.000000                  821.0   \n",
       "\n",
       "       user.followers_count  user.friends_count      user.id  \\\n",
       "count                3208.0              3208.0       3208.0   \n",
       "mean                21447.0               863.0  104604540.0   \n",
       "std                     0.0                 0.0          0.0   \n",
       "min                 21447.0               863.0  104604540.0   \n",
       "25%                 21447.0               863.0  104604540.0   \n",
       "50%                 21447.0               863.0  104604540.0   \n",
       "75%                 21447.0               863.0  104604540.0   \n",
       "max                 21447.0               863.0  104604540.0   \n",
       "\n",
       "       user.listed_count  user.statuses_count  user.utc_offset  \n",
       "count             3208.0               3208.0           3208.0  \n",
       "mean               464.0               3472.0           3600.0  \n",
       "std                  0.0                  0.0              0.0  \n",
       "min                464.0               3472.0           3600.0  \n",
       "25%                464.0               3472.0           3600.0  \n",
       "50%                464.0               3472.0           3600.0  \n",
       "75%                464.0               3472.0           3600.0  \n",
       "max                464.0               3472.0           3600.0  "
      ]
     },
     "execution_count": 53,
     "metadata": {},
     "output_type": "execute_result"
    }
   ],
   "source": [
    "df1.describe()"
   ]
  },
  {
   "cell_type": "code",
   "execution_count": 64,
   "metadata": {
    "collapsed": false
   },
   "outputs": [
    {
     "data": {
      "text/plain": [
       "<matplotlib.axes._subplots.AxesSubplot at 0x1be5ccb5828>"
      ]
     },
     "execution_count": 64,
     "metadata": {},
     "output_type": "execute_result"
    },
    {
     "data": {
      "image/png": "[encoded data removed]",
      "text/plain": [
       "<matplotlib.figure.Figure at 0x1be58695470>"
      ]
     },
     "metadata": {},
     "output_type": "display_data"
    }
   ],
   "source": [
    "df1.retweet_count.value_counts().plot(kind='bar', title='Number of retweets') #Barplot"
   ]
  },
  {
   "cell_type": "markdown",
   "metadata": {},
   "source": [
    "We can see how the number of retweets presents approximatedly an exponential decay, with the caveat that the biggest number of retweets are always reached by a single tweet (it would be very rare that two tweets receive exactly the same number of retweets)"
   ]
  },
  {
   "cell_type": "markdown",
   "metadata": {},
   "source": [
    "### 4.Different volume of engagement"
   ]
  },
  {
   "cell_type": "code",
   "execution_count": 56,
   "metadata": {
    "collapsed": false
   },
   "outputs": [
    {
     "name": "stdout",
     "output_type": "stream",
     "text": [
      "EPFL has a total of 3826 favorites, while ETH has 3994.\n"
     ]
    }
   ],
   "source": [
    "nfavorites1 = df1['favorite_count'].sum()\n",
    "nfavorites2 = df2['favorite_count'].sum()\n",
    "print('EPFL has a total of {0} favorites, while ETH has {1}.'.format(nfavorites1,nfavorites2))"
   ]
  },
  {
   "cell_type": "markdown",
   "metadata": {},
   "source": [
    "Very tight competition!"
   ]
  },
  {
   "cell_type": "code",
   "execution_count": 58,
   "metadata": {
    "collapsed": false
   },
   "outputs": [
    {
     "name": "stdout",
     "output_type": "stream",
     "text": [
      "EPFL dowsampled has a total of 150 favorites, while ETH has 163.\n"
     ]
    }
   ],
   "source": [
    "nfavorites1s = df1s['favorite_count'].sum()\n",
    "nfavorites2s = df2s['favorite_count'].sum()\n",
    "print('EPFL dowsampled has a total of {0} favorites, while ETH has {1}.'.format(nfavorites1s,nfavorites2s))"
   ]
  },
  {
   "cell_type": "markdown",
   "metadata": {},
   "source": [
    "Downsampling doesn't affect much here"
   ]
  },
  {
   "cell_type": "code",
   "execution_count": 78,
   "metadata": {
    "collapsed": false
   },
   "outputs": [
    {
     "name": "stdout",
     "output_type": "stream",
     "text": [
      "EPFL has a total of 19634 retweets, while ETH has 8342.\n"
     ]
    }
   ],
   "source": [
    "retweet_count1 = df1['retweet_count'].sum()\n",
    "retweet_count2 = df2['retweet_count'].sum()\n",
    "print('EPFL has a total of {0} retweets, while ETH has {1}.'.format(retweet_count1,retweet_count2))"
   ]
  },
  {
   "cell_type": "markdown",
   "metadata": {},
   "source": [
    "But EPFL has many more retweets!"
   ]
  },
  {
   "cell_type": "code",
   "execution_count": 111,
   "metadata": {
    "collapsed": false
   },
   "outputs": [
    {
     "name": "stderr",
     "output_type": "stream",
     "text": [
      "C:\\Users\\dunay\\Anaconda3\\lib\\site-packages\\ipykernel\\__main__.py:6: SettingWithCopyWarning: \n",
      "A value is trying to be set on a copy of a slice from a DataFrame.\n",
      "Try using .loc[row_indexer,col_indexer] = value instead\n",
      "\n",
      "See the caveats in the documentation: http://pandas.pydata.org/pandas-docs/stable/indexing.html#indexing-view-versus-copy\n",
      "C:\\Users\\dunay\\Anaconda3\\lib\\site-packages\\ipykernel\\__main__.py:7: SettingWithCopyWarning: \n",
      "A value is trying to be set on a copy of a slice from a DataFrame.\n",
      "Try using .loc[row_indexer,col_indexer] = value instead\n",
      "\n",
      "See the caveats in the documentation: http://pandas.pydata.org/pandas-docs/stable/indexing.html#indexing-view-versus-copy\n"
     ]
    }
   ],
   "source": [
    "#To make it per year / month / hours we need to tansfrom to datetime\n",
    "df1['created_at'] = pd.to_datetime(df1.created_at)\n",
    "df2['created_at'] = pd.to_datetime(df2.created_at)\n",
    "\n",
    "#This for later too\n",
    "df1s['created_at'] = pd.to_datetime(df1s.created_at)\n",
    "df2s['created_at'] = pd.to_datetime(df2s.created_at)"
   ]
  },
  {
   "cell_type": "code",
   "execution_count": 133,
   "metadata": {
    "collapsed": false
   },
   "outputs": [
    {
     "name": "stderr",
     "output_type": "stream",
     "text": [
      "C:\\Users\\dunay\\Anaconda3\\lib\\site-packages\\ipykernel\\__main__.py:9: SettingWithCopyWarning: \n",
      "A value is trying to be set on a copy of a slice from a DataFrame.\n",
      "Try using .loc[row_indexer,col_indexer] = value instead\n",
      "\n",
      "See the caveats in the documentation: http://pandas.pydata.org/pandas-docs/stable/indexing.html#indexing-view-versus-copy\n",
      "C:\\Users\\dunay\\Anaconda3\\lib\\site-packages\\ipykernel\\__main__.py:10: SettingWithCopyWarning: \n",
      "A value is trying to be set on a copy of a slice from a DataFrame.\n",
      "Try using .loc[row_indexer,col_indexer] = value instead\n",
      "\n",
      "See the caveats in the documentation: http://pandas.pydata.org/pandas-docs/stable/indexing.html#indexing-view-versus-copy\n",
      "C:\\Users\\dunay\\Anaconda3\\lib\\site-packages\\ipykernel\\__main__.py:11: SettingWithCopyWarning: \n",
      "A value is trying to be set on a copy of a slice from a DataFrame.\n",
      "Try using .loc[row_indexer,col_indexer] = value instead\n",
      "\n",
      "See the caveats in the documentation: http://pandas.pydata.org/pandas-docs/stable/indexing.html#indexing-view-versus-copy\n",
      "C:\\Users\\dunay\\Anaconda3\\lib\\site-packages\\ipykernel\\__main__.py:12: SettingWithCopyWarning: \n",
      "A value is trying to be set on a copy of a slice from a DataFrame.\n",
      "Try using .loc[row_indexer,col_indexer] = value instead\n",
      "\n",
      "See the caveats in the documentation: http://pandas.pydata.org/pandas-docs/stable/indexing.html#indexing-view-versus-copy\n"
     ]
    }
   ],
   "source": [
    "df1['created_at_y'] = [x.year for x in df1.created_at]\n",
    "df2['created_at_y'] = [x.year for x in df2.created_at]\n",
    "df1['created_at_m'] = [x.month for x in df1.created_at]\n",
    "df2['created_at_m'] = [x.month for x in df2.created_at]\n",
    "df1['created_at_h'] = [x.hour for x in df1.created_at]\n",
    "df2['created_at_h'] = [x.hour for x in df2.created_at]\n",
    "\n",
    "#This for later too\n",
    "df1s['created_at_h'] = [x.hour for x in df1s.created_at]\n",
    "df2s['created_at_h'] = [x.hour for x in df2s.created_at]\n",
    "df1s['created_at_y'] = [x.year for x in df1s.created_at]\n",
    "df2s['created_at_y'] = [x.year for x in df2s.created_at]"
   ]
  },
  {
   "cell_type": "code",
   "execution_count": 79,
   "metadata": {
    "collapsed": true
   },
   "outputs": [],
   "source": [
    "df1_f_y = df1.groupby('created_at_y').favorite_count.sum()\n",
    "df1_r_y = df1.groupby('created_at_y').retweet_count.sum()\n",
    "df2_f_y = df2.groupby('created_at_y').favorite_count.sum()\n",
    "df2_r_y = df2.groupby('created_at_y').retweet_count.sum()"
   ]
  },
  {
   "cell_type": "code",
   "execution_count": 84,
   "metadata": {
    "collapsed": false
   },
   "outputs": [
    {
     "data": {
      "text/plain": [
       "<matplotlib.axes._subplots.AxesSubplot at 0x1be698cc860>"
      ]
     },
     "execution_count": 84,
     "metadata": {},
     "output_type": "execute_result"
    },
    {
     "data": {
      "image/png": "[encoded data removed]",
      "text/plain": [
       "<matplotlib.figure.Figure at 0x1be69b19ac8>"
      ]
     },
     "metadata": {},
     "output_type": "display_data"
    }
   ],
   "source": [
    "df1_f_y.plot(kind='bar', title='EPFL - Favorites per year') #Barplot"
   ]
  },
  {
   "cell_type": "code",
   "execution_count": 85,
   "metadata": {
    "collapsed": false
   },
   "outputs": [
    {
     "data": {
      "text/plain": [
       "<matplotlib.axes._subplots.AxesSubplot at 0x1be633930b8>"
      ]
     },
     "execution_count": 85,
     "metadata": {},
     "output_type": "execute_result"
    },
    {
     "data": {
      "image/png": "[encoded data removed]",
      "text/plain": [
       "<matplotlib.figure.Figure at 0x1be633cb7b8>"
      ]
     },
     "metadata": {},
     "output_type": "display_data"
    }
   ],
   "source": [
    "df1_r_y.plot(kind='bar', title='EPFL - Retweets per year') #Barplot"
   ]
  },
  {
   "cell_type": "code",
   "execution_count": 86,
   "metadata": {
    "collapsed": false
   },
   "outputs": [
    {
     "data": {
      "text/plain": [
       "<matplotlib.axes._subplots.AxesSubplot at 0x1be633ea7b8>"
      ]
     },
     "execution_count": 86,
     "metadata": {},
     "output_type": "execute_result"
    },
    {
     "data": {
      "image/png": "[encoded data removed]",
      "text/plain": [
       "<matplotlib.figure.Figure at 0x1be634208d0>"
      ]
     },
     "metadata": {},
     "output_type": "display_data"
    }
   ],
   "source": [
    "df2_f_y.plot(kind='bar', title='ETH - Favorites per year') #Barplot"
   ]
  },
  {
   "cell_type": "code",
   "execution_count": 87,
   "metadata": {
    "collapsed": false
   },
   "outputs": [
    {
     "data": {
      "text/plain": [
       "<matplotlib.axes._subplots.AxesSubplot at 0x1be6496b860>"
      ]
     },
     "execution_count": 87,
     "metadata": {},
     "output_type": "execute_result"
    },
    {
     "data": {
      "image/png": "[encoded data removed]",
      "text/plain": [
       "<matplotlib.figure.Figure at 0x1be649406d8>"
      ]
     },
     "metadata": {},
     "output_type": "display_data"
    }
   ],
   "source": [
    "df2_r_y.plot(kind='bar', title='ETH - Retweets per year') #Barplot"
   ]
  },
  {
   "cell_type": "markdown",
   "metadata": {},
   "source": [
    "**NOTE**: Thant 2017 is just starting, but following the trend it promisses to have much higher impact in Twitter\n",
    "\n",
    "Most important difference in the number of retweets, much bigger for EPFL.\n",
    "\n",
    "Number of retweets is usually higher than number of favorites"
   ]
  },
  {
   "cell_type": "code",
   "execution_count": 89,
   "metadata": {
    "collapsed": true
   },
   "outputs": [],
   "source": [
    "#We can do the same thing for month and hour\n",
    "df1_f_m = df1.groupby('created_at_m').favorite_count.sum()\n",
    "df1_r_m = df1.groupby('created_at_m').retweet_count.sum()\n",
    "df2_f_m = df2.groupby('created_at_m').favorite_count.sum()\n",
    "df2_r_m = df2.groupby('created_at_m').retweet_count.sum()\n",
    "\n",
    "df1_f_h = df1.groupby('created_at_h').favorite_count.sum()\n",
    "df1_r_h = df1.groupby('created_at_h').retweet_count.sum()\n",
    "df2_f_h = df2.groupby('created_at_h').favorite_count.sum()\n",
    "df2_r_h = df2.groupby('created_at_h').retweet_count.sum()"
   ]
  },
  {
   "cell_type": "code",
   "execution_count": 90,
   "metadata": {
    "collapsed": false
   },
   "outputs": [
    {
     "data": {
      "text/plain": [
       "<matplotlib.axes._subplots.AxesSubplot at 0x1be64991320>"
      ]
     },
     "execution_count": 90,
     "metadata": {},
     "output_type": "execute_result"
    },
    {
     "data": {
      "image/png": "[encoded data removed]",
      "text/plain": [
       "<matplotlib.figure.Figure at 0x1be649c63c8>"
      ]
     },
     "metadata": {},
     "output_type": "display_data"
    }
   ],
   "source": [
    "df1_f_m.plot(kind='bar', title='EPFL - Favorites per month') #Barplot"
   ]
  },
  {
   "cell_type": "code",
   "execution_count": 91,
   "metadata": {
    "collapsed": false
   },
   "outputs": [
    {
     "data": {
      "text/plain": [
       "<matplotlib.axes._subplots.AxesSubplot at 0x1be649de828>"
      ]
     },
     "execution_count": 91,
     "metadata": {},
     "output_type": "execute_result"
    },
    {
     "data": {
      "image/png": "[encoded data removed]",
      "text/plain": [
       "<matplotlib.figure.Figure at 0x1be649774e0>"
      ]
     },
     "metadata": {},
     "output_type": "display_data"
    }
   ],
   "source": [
    "df2_f_m.plot(kind='bar', title='ETH - Favorites per month') #Barplot"
   ]
  },
  {
   "cell_type": "markdown",
   "metadata": {},
   "source": [
    "Doesn't seem to be any peferable month"
   ]
  },
  {
   "cell_type": "code",
   "execution_count": 92,
   "metadata": {
    "collapsed": false
   },
   "outputs": [
    {
     "data": {
      "text/plain": [
       "<matplotlib.axes._subplots.AxesSubplot at 0x1be6662fda0>"
      ]
     },
     "execution_count": 92,
     "metadata": {},
     "output_type": "execute_result"
    },
    {
     "data": {
      "image/png": "[encoded data removed]",
      "text/plain": [
       "<matplotlib.figure.Figure at 0x1be666379b0>"
      ]
     },
     "metadata": {},
     "output_type": "display_data"
    }
   ],
   "source": [
    "df1_f_h.plot(kind='bar', title='EPFL - Favorites per Hour') #Barplot"
   ]
  },
  {
   "cell_type": "code",
   "execution_count": 93,
   "metadata": {
    "collapsed": false
   },
   "outputs": [
    {
     "data": {
      "text/plain": [
       "<matplotlib.axes._subplots.AxesSubplot at 0x1be66686ba8>"
      ]
     },
     "execution_count": 93,
     "metadata": {},
     "output_type": "execute_result"
    },
    {
     "data": {
      "image/png": "[encoded data removed]",
      "text/plain": [
       "<matplotlib.figure.Figure at 0x1be6968f630>"
      ]
     },
     "metadata": {},
     "output_type": "display_data"
    }
   ],
   "source": [
    "df2_f_h.plot(kind='bar', title='ETH - Favorites per Hour') #Barplot"
   ]
  },
  {
   "cell_type": "markdown",
   "metadata": {},
   "source": [
    "8:00 to 16:00 seems to be the most active period for both entities (at least for giving favorites). It's probably when students relate most to university."
   ]
  },
  {
   "cell_type": "markdown",
   "metadata": {},
   "source": [
    "We could just repeat for the number of retweets"
   ]
  },
  {
   "cell_type": "markdown",
   "metadata": {},
   "source": [
    "#### 4.1 per hashtag"
   ]
  },
  {
   "cell_type": "code",
   "execution_count": 162,
   "metadata": {
    "collapsed": false
   },
   "outputs": [],
   "source": [
    "#TO simplify we consider only the first appearing hastag (if any)\n",
    "def firsthas(s):\n",
    "    try:\n",
    "        h = s[0]['text']\n",
    "    except:\n",
    "        h = None\n",
    "    return h\n",
    "#top3segments = segments_merged.groupby('mmsi').apply(top, column='seg_length', n=3)[['names', 'seg_length']]\n",
    "\n",
    "df1['fist_hastag'] = df1['entities.hashtags'].apply(firsthas)\n",
    "df2['fist_hastag'] = df2['entities.hashtags'].apply(firsthas)"
   ]
  },
  {
   "cell_type": "code",
   "execution_count": 163,
   "metadata": {
    "collapsed": false
   },
   "outputs": [
    {
     "data": {
      "text/plain": [
       "0         None\n",
       "1     universe\n",
       "2       biorob\n",
       "3    Antarctic\n",
       "4         None\n",
       "Name: fist_hastag, dtype: object"
      ]
     },
     "execution_count": 163,
     "metadata": {},
     "output_type": "execute_result"
    }
   ],
   "source": [
    "df1['fist_hastag'].head()"
   ]
  },
  {
   "cell_type": "code",
   "execution_count": 164,
   "metadata": {
    "collapsed": false
   },
   "outputs": [],
   "source": [
    "df1_f_ha = df1.groupby('fist_hastag').favorite_count.sum()\n",
    "df1_r_ha = df1.groupby('fist_hastag').retweet_count.sum()\n",
    "df2_f_ha = df2.groupby('fist_hastag').favorite_count.sum()\n",
    "df2_r_ha = df2.groupby('fist_hastag').retweet_count.sum()"
   ]
  },
  {
   "cell_type": "code",
   "execution_count": 165,
   "metadata": {
    "collapsed": false
   },
   "outputs": [
    {
     "data": {
      "text/plain": [
       "<matplotlib.axes._subplots.AxesSubplot at 0x1be6c3e67b8>"
      ]
     },
     "execution_count": 165,
     "metadata": {},
     "output_type": "execute_result"
    },
    {
     "data": {
      "image/png": "[encoded data removed]",
      "text/plain": [
       "<matplotlib.figure.Figure at 0x1be6c33f7f0>"
      ]
     },
     "metadata": {},
     "output_type": "display_data"
    }
   ],
   "source": [
    "df1_f_ha.plot(kind='bar', title='EPFL - Favorites per Hastag') #Barplot"
   ]
  },
  {
   "cell_type": "markdown",
   "metadata": {},
   "source": [
    "cannot really see much on the plot. Too many hastags! Better to get the values.\n",
    "\n",
    "Favorite hastags in EPFL: "
   ]
  },
  {
   "cell_type": "code",
   "execution_count": 169,
   "metadata": {
    "collapsed": false
   },
   "outputs": [
    {
     "data": {
      "text/plain": [
       "fist_hastag\n",
       "ScienceQuestion       107\n",
       "PortesOuvertesEPFL     99\n",
       "epflENAC               82\n",
       "epflSTI                73\n",
       "epflSB                 71\n",
       "epflSV                 53\n",
       "EPFLStudents           43\n",
       "EPFL                   32\n",
       "light                  31\n",
       "MannequinChallenge     29\n",
       "Name: favorite_count, dtype: int64"
      ]
     },
     "execution_count": 169,
     "metadata": {},
     "output_type": "execute_result"
    }
   ],
   "source": [
    "df1_f_ha.sort_values(ascending=False).head(10)"
   ]
  },
  {
   "cell_type": "markdown",
   "metadata": {},
   "source": [
    "Favorite hastags in ETH: "
   ]
  },
  {
   "cell_type": "code",
   "execution_count": 170,
   "metadata": {
    "collapsed": false
   },
   "outputs": [
    {
     "data": {
      "text/plain": [
       "fist_hastag\n",
       "ETH            1460\n",
       "ETHZ            371\n",
       "ETHZurich       200\n",
       "Cybathlon       114\n",
       "ETH2CAL          38\n",
       "Einstein         33\n",
       "robots           33\n",
       "TEDxZurich       32\n",
       "ethz             27\n",
       "worldin2050      27\n",
       "Name: favorite_count, dtype: int64"
      ]
     },
     "execution_count": 170,
     "metadata": {},
     "output_type": "execute_result"
    }
   ],
   "source": [
    "df2_f_ha.sort_values(ascending=False).head(10)"
   ]
  },
  {
   "cell_type": "markdown",
   "metadata": {},
   "source": [
    "**Conclusion**: ETH is a bit more self-centered, always trying to metion itself along popular tweets\n",
    "\n",
    "**Note**: Results shown for number of favorites. For number of retweets identical procedure as before. (no time to copy paste and repeat)"
   ]
  },
  {
   "cell_type": "markdown",
   "metadata": {},
   "source": [
    "### 5. Regression on Retweet"
   ]
  },
  {
   "cell_type": "markdown",
   "metadata": {},
   "source": [
    "Now let's try to predict the number of retweets. I am gonna use 3 different regressors: Random Forest, MLP and K-Neighborgs in these features, and use the negativative mean square error as a metric of performance. Then the conclusions. I divided it in subsections for EPFL, ETH and the sampled versions respectively"
   ]
  },
  {
   "cell_type": "code",
   "execution_count": 94,
   "metadata": {
    "collapsed": false
   },
   "outputs": [
    {
     "data": {
      "text/plain": [
       "Index(['created_at', 'entities.hashtags', 'entities.symbols', 'entities.urls',\n",
       "       'entities.user_mentions', 'favorite_count', 'favorited', 'id', 'id_str',\n",
       "       'is_quote_status', 'lang', 'retweet_count', 'retweeted', 'source',\n",
       "       'text', 'truncated', 'user.contributors_enabled', 'user.created_at',\n",
       "       'user.default_profile', 'user.default_profile_image',\n",
       "       'user.description', 'user.entities.description.urls',\n",
       "       'user.entities.url.urls', 'user.favourites_count',\n",
       "       'user.follow_request_sent', 'user.followers_count', 'user.following',\n",
       "       'user.friends_count', 'user.geo_enabled', 'user.has_extended_profile',\n",
       "       'user.id', 'user.id_str', 'user.is_translation_enabled',\n",
       "       'user.is_translator', 'user.lang', 'user.listed_count', 'user.location',\n",
       "       'user.name', 'user.notifications', 'user.profile_background_color',\n",
       "       'user.profile_background_image_url',\n",
       "       'user.profile_background_image_url_https',\n",
       "       'user.profile_background_tile', 'user.profile_banner_url',\n",
       "       'user.profile_image_url', 'user.profile_image_url_https',\n",
       "       'user.profile_link_color', 'user.profile_sidebar_border_color',\n",
       "       'user.profile_sidebar_fill_color', 'user.profile_text_color',\n",
       "       'user.profile_use_background_image', 'user.protected',\n",
       "       'user.screen_name', 'user.statuses_count', 'user.time_zone',\n",
       "       'user.translator_type', 'user.url', 'user.utc_offset', 'user.verified',\n",
       "       'created_at_y', 'created_at_m', 'created_at_h'],\n",
       "      dtype='object')"
      ]
     },
     "execution_count": 94,
     "metadata": {},
     "output_type": "execute_result"
    }
   ],
   "source": [
    "df1.columns #Have a look at the features"
   ]
  },
  {
   "cell_type": "code",
   "execution_count": 134,
   "metadata": {
    "collapsed": true
   },
   "outputs": [],
   "source": [
    "#Get the targets\n",
    "label1 = df1.retweet_count\n",
    "label2 = df2.retweet_count\n",
    "label1s = df1s.retweet_count\n",
    "label2s = df2s.retweet_count\n",
    "\n",
    "#Get the features\n",
    "#What can be useful features?\n",
    "#The favorite count should be highly correlated, and the hour was discriminative from the previous analysis, year as mentioned\n",
    "features1 = df1.ix[:,['favorite_count','created_at_h','created_at_y']] #These seem the ones with most value\n",
    "features2 = df2.ix[:,['favorite_count','created_at_h','created_at_y']] #These seem the ones with most value\n",
    "features1s = df1s.ix[:,['favorite_count','created_at_h','created_at_y']] #These seem the ones with most value\n",
    "features2s = df2s.ix[:,['favorite_count','created_at_h','created_at_y']] #These seem the ones with most value"
   ]
  },
  {
   "cell_type": "markdown",
   "metadata": {},
   "source": [
    "### 5.1 Full-EPFL"
   ]
  },
  {
   "cell_type": "code",
   "execution_count": 135,
   "metadata": {
    "collapsed": false
   },
   "outputs": [
    {
     "name": "stdout",
     "output_type": "stream",
     "text": [
      "-12689.1288893\n",
      "608556000.555\n"
     ]
    }
   ],
   "source": [
    "model = RandomForestRegressor(n_estimators=100,max_depth=3)\n",
    "scores1 = cross_val_score(model, features1, label1, scoring='neg_mean_squared_error', cv=5) #scoring: http://scikit-learn.org/stable/modules/model_evaluation.html\n",
    "mean_score1 = np.mean(scores1)\n",
    "print(mean_score1)\n",
    "var_score1 = np.var(scores1)\n",
    "print(var_score1)"
   ]
  },
  {
   "cell_type": "code",
   "execution_count": 136,
   "metadata": {
    "collapsed": false
   },
   "outputs": [
    {
     "name": "stdout",
     "output_type": "stream",
     "text": [
      "-12993.0049725\n",
      "600838001.439\n"
     ]
    }
   ],
   "source": [
    "model = neighbors.KNeighborsRegressor(n_neighbors=5)\n",
    "scores1 = cross_val_score(model, features1, label1, scoring='neg_mean_squared_error', cv=5) #scoring: http://scikit-learn.org/stable/modules/model_evaluation.html\n",
    "mean_score1 = np.mean(scores1)\n",
    "print(mean_score1)\n",
    "var_score1 = np.var(scores1)\n",
    "print(var_score1)"
   ]
  },
  {
   "cell_type": "code",
   "execution_count": 137,
   "metadata": {
    "collapsed": false
   },
   "outputs": [
    {
     "name": "stdout",
     "output_type": "stream",
     "text": [
      "-12674.4890046\n",
      "610074927.9\n"
     ]
    }
   ],
   "source": [
    "model = MLPRegressor(activation = 'logistic', hidden_layer_sizes = (2,1),learning_rate_init = 0.01,\n",
    "                  learning_rate = 'adaptive',tol = 1e-10, batch_size = 200)\n",
    "scores1 = cross_val_score(model, features1, label1, scoring='neg_mean_squared_error', cv=5) #scoring: http://scikit-learn.org/stable/modules/model_evaluation.html\n",
    "mean_score1 = np.mean(scores1)\n",
    "print(mean_score1)\n",
    "var_score1 = np.var(scores1)\n",
    "print(var_score1)"
   ]
  },
  {
   "cell_type": "markdown",
   "metadata": {},
   "source": [
    "Huge error and huge variance for your 3 regressors!"
   ]
  },
  {
   "cell_type": "markdown",
   "metadata": {},
   "source": [
    "### 5.2 Full-ETH"
   ]
  },
  {
   "cell_type": "code",
   "execution_count": 138,
   "metadata": {
    "collapsed": false
   },
   "outputs": [
    {
     "name": "stdout",
     "output_type": "stream",
     "text": [
      "-443.365514868\n",
      "290078.451186\n"
     ]
    }
   ],
   "source": [
    "model = RandomForestRegressor(n_estimators=100,max_depth=3)\n",
    "scores2 = cross_val_score(model, features2, label2, scoring='neg_mean_squared_error', cv=5) #scoring: http://scikit-learn.org/stable/modules/model_evaluation.html\n",
    "mean_score2 = np.mean(scores2)\n",
    "print(mean_score2)\n",
    "var_score2 = np.var(scores2)\n",
    "print(var_score2)"
   ]
  },
  {
   "cell_type": "code",
   "execution_count": 139,
   "metadata": {
    "collapsed": false
   },
   "outputs": [
    {
     "name": "stdout",
     "output_type": "stream",
     "text": [
      "-457.286293722\n",
      "268562.265297\n"
     ]
    }
   ],
   "source": [
    "model = neighbors.KNeighborsRegressor(n_neighbors=5)\n",
    "scores2 = cross_val_score(model, features2, label2, scoring='neg_mean_squared_error', cv=5) #scoring: http://scikit-learn.org/stable/modules/model_evaluation.html\n",
    "mean_score2 = np.mean(scores2)\n",
    "print(mean_score2)\n",
    "var_score2 = np.var(scores2)\n",
    "print(var_score2)"
   ]
  },
  {
   "cell_type": "code",
   "execution_count": 140,
   "metadata": {
    "collapsed": false
   },
   "outputs": [
    {
     "name": "stdout",
     "output_type": "stream",
     "text": [
      "-433.972541038\n",
      "297324.945104\n"
     ]
    }
   ],
   "source": [
    "model = MLPRegressor(activation = 'logistic', hidden_layer_sizes = (2,1),learning_rate_init = 0.01,\n",
    "                  learning_rate = 'adaptive',tol = 1e-10, batch_size = 200)\n",
    "scores2 = cross_val_score(model, features2, label2, scoring='neg_mean_squared_error', cv=5) #scoring: http://scikit-learn.org/stable/modules/model_evaluation.html\n",
    "mean_score2 = np.mean(scores2)\n",
    "print(mean_score2)\n",
    "var_score2 = np.var(scores2)\n",
    "print(var_score2)"
   ]
  },
  {
   "cell_type": "markdown",
   "metadata": {},
   "source": [
    "ETH is much more predictable than EPFL!! (because it didn't have that big number of retweets) Still, not so good."
   ]
  },
  {
   "cell_type": "markdown",
   "metadata": {},
   "source": [
    "### 5.3 Sample-EPFL"
   ]
  },
  {
   "cell_type": "code",
   "execution_count": 141,
   "metadata": {
    "collapsed": false
   },
   "outputs": [
    {
     "name": "stdout",
     "output_type": "stream",
     "text": [
      "-9.50166025085\n",
      "130.351546851\n"
     ]
    }
   ],
   "source": [
    "model = RandomForestRegressor(n_estimators=100,max_depth=3)\n",
    "scores1 = cross_val_score(model, features1s, label1s, scoring='neg_mean_squared_error', cv=5) #scoring: http://scikit-learn.org/stable/modules/model_evaluation.html\n",
    "mean_score1 = np.mean(scores1)\n",
    "print(mean_score1)\n",
    "var_score1 = np.var(scores1)\n",
    "print(var_score1)"
   ]
  },
  {
   "cell_type": "code",
   "execution_count": 142,
   "metadata": {
    "collapsed": false
   },
   "outputs": [
    {
     "name": "stdout",
     "output_type": "stream",
     "text": [
      "-11.09472\n",
      "144.995685786\n"
     ]
    }
   ],
   "source": [
    "model = neighbors.KNeighborsRegressor(n_neighbors=5)\n",
    "scores1 = cross_val_score(model, features1s, label1s, scoring='neg_mean_squared_error', cv=5) #scoring: http://scikit-learn.org/stable/modules/model_evaluation.html\n",
    "mean_score1 = np.mean(scores1)\n",
    "print(mean_score1)\n",
    "var_score1 = np.var(scores1)\n",
    "print(var_score1)"
   ]
  },
  {
   "cell_type": "code",
   "execution_count": 143,
   "metadata": {
    "collapsed": false
   },
   "outputs": [
    {
     "name": "stdout",
     "output_type": "stream",
     "text": [
      "-15.0732527695\n",
      "240.971576649\n"
     ]
    }
   ],
   "source": [
    "model = MLPRegressor(activation = 'logistic', hidden_layer_sizes = (2,1),learning_rate_init = 0.01,\n",
    "                  learning_rate = 'adaptive',tol = 1e-10, batch_size = 10)\n",
    "scores1 = cross_val_score(model, features1s, label1s, scoring='neg_mean_squared_error', cv=5) #scoring: http://scikit-learn.org/stable/modules/model_evaluation.html\n",
    "mean_score1 = np.mean(scores1)\n",
    "print(mean_score1)\n",
    "var_score1 = np.var(scores1)\n",
    "print(var_score1)"
   ]
  },
  {
   "cell_type": "markdown",
   "metadata": {},
   "source": [
    "Sampled version has less error because we get rid of many outliers that we making the training fail!\n",
    "\n",
    "In the MLP we have to reduce the batch_size because we don't have that many samples!"
   ]
  },
  {
   "cell_type": "markdown",
   "metadata": {},
   "source": [
    "### 5.4 Sample-ETH"
   ]
  },
  {
   "cell_type": "code",
   "execution_count": 144,
   "metadata": {
    "collapsed": false
   },
   "outputs": [
    {
     "name": "stdout",
     "output_type": "stream",
     "text": [
      "-91.8650576251\n",
      "8595.99131468\n"
     ]
    }
   ],
   "source": [
    "model = RandomForestRegressor(n_estimators=100,max_depth=3)\n",
    "scores2 = cross_val_score(model, features2s, label2s, scoring='neg_mean_squared_error', cv=5) #scoring: http://scikit-learn.org/stable/modules/model_evaluation.html\n",
    "mean_score2 = np.mean(scores2)\n",
    "print(mean_score2)\n",
    "var_score2 = np.var(scores2)\n",
    "print(var_score2)"
   ]
  },
  {
   "cell_type": "code",
   "execution_count": 145,
   "metadata": {
    "collapsed": false
   },
   "outputs": [
    {
     "name": "stdout",
     "output_type": "stream",
     "text": [
      "-48.1716\n",
      "2916.98403516\n"
     ]
    }
   ],
   "source": [
    "model = neighbors.KNeighborsRegressor(n_neighbors=5)\n",
    "scores2 = cross_val_score(model, features2s, label2s, scoring='neg_mean_squared_error', cv=5) #scoring: http://scikit-learn.org/stable/modules/model_evaluation.html\n",
    "mean_score2 = np.mean(scores2)\n",
    "print(mean_score2)\n",
    "var_score2 = np.var(scores2)\n",
    "print(var_score2)"
   ]
  },
  {
   "cell_type": "code",
   "execution_count": 146,
   "metadata": {
    "collapsed": false
   },
   "outputs": [
    {
     "name": "stdout",
     "output_type": "stream",
     "text": [
      "-39.2095269869\n",
      "3960.1705293\n"
     ]
    }
   ],
   "source": [
    "model = MLPRegressor(activation = 'logistic', hidden_layer_sizes = (2,1),learning_rate_init = 0.01,\n",
    "                  learning_rate = 'adaptive',tol = 1e-10, batch_size = 10)\n",
    "scores2 = cross_val_score(model, features2s, label2s, scoring='neg_mean_squared_error', cv=5) #scoring: http://scikit-learn.org/stable/modules/model_evaluation.html\n",
    "mean_score2 = np.mean(scores2)\n",
    "print(mean_score2)\n",
    "var_score2 = np.var(scores2)\n",
    "print(var_score2)"
   ]
  },
  {
   "cell_type": "markdown",
   "metadata": {},
   "source": [
    "Again, better prediction when we got rid of the outlier by sampling, but we didn't get as lucky as in epfl"
   ]
  },
  {
   "cell_type": "markdown",
   "metadata": {},
   "source": [
    "**Final comment**: The MPL was the best performing regressor of the three, but with not much different and not in all cases\n",
    "\n",
    "**Final comment2**: I tried with and without the year and it didn't really change much"
   ]
  },
  {
   "cell_type": "markdown",
   "metadata": {},
   "source": [
    "### 6. Topic Modeling"
   ]
  },
  {
   "cell_type": "code",
   "execution_count": 173,
   "metadata": {
    "collapsed": false
   },
   "outputs": [
    {
     "data": {
      "text/plain": [
       "0    RT @TechXplore_com: Reptilian robots are spies...\n",
       "1    RT @physorg_com: Astronomers measure #universe...\n",
       "2    RT @MartinVetterli: Robotic Reptiles by @epfl_...\n",
       "3    RT @TechnologistEU: Three months in the #Antar...\n",
       "4    RT @_hsanctuary: A fun @EPFL_en report on robo...\n",
       "Name: text, dtype: object"
      ]
     },
     "execution_count": 173,
     "metadata": {},
     "output_type": "execute_result"
    }
   ],
   "source": [
    "df1.text.head()"
   ]
  },
  {
   "cell_type": "code",
   "execution_count": 177,
   "metadata": {
    "collapsed": true
   },
   "outputs": [],
   "source": [
    "#Get the text\n",
    "body1 = df1.text\n",
    "body2 = df2.text\n",
    "\n",
    "#Join as documment\n",
    "long_string1 = ' '.join(body1.tolist())\n",
    "long_string2 = ' '.join(body2.tolist())\n",
    "\n",
    "#Tokenization\n",
    "tokens1 = nltk.word_tokenize(long_string1)\n",
    "tokens2 = nltk.word_tokenize(long_string2)"
   ]
  },
  {
   "cell_type": "code",
   "execution_count": 179,
   "metadata": {
    "collapsed": false
   },
   "outputs": [],
   "source": [
    "#Stopword removal\n",
    "Stop = set(stopwords.words('english'))\n",
    "extraStop = set(('RT')) #We also remove RT\n",
    "finalStop = Stop.union(extraStop)\n",
    "new_tokens1 = list()\n",
    "for token in tokens1:\n",
    "    if token.lower() not in finalStop:\n",
    "        new_tokens1.append(token.lower())\n",
    "new_tokens2 = list()\n",
    "for token in tokens2:\n",
    "    if token.lower() not in finalStop:\n",
    "        new_tokens2.append(token.lower())"
   ]
  },
  {
   "cell_type": "code",
   "execution_count": 181,
   "metadata": {
    "collapsed": false
   },
   "outputs": [
    {
     "data": {
      "text/plain": [
       "[(0,\n",
       "  '0.093*: + 0.051*@ + 0.036*# + 0.034*http + 0.022*rt + 0.021*epfl + 0.018*https + 0.016*, + 0.012*! + 0.009*.'),\n",
       " (1,\n",
       "  '0.074*: + 0.044*# + 0.030*http + 0.029*@ + 0.022*rt + 0.014*https + 0.014*epfl + 0.012*, + 0.010*! + 0.008*.'),\n",
       " (2,\n",
       "  '0.084*: + 0.064*@ + 0.044*# + 0.027*http + 0.026*epfl + 0.024*https + 0.015*, + 0.014*rt + 0.011*. + 0.009*!'),\n",
       " (3,\n",
       "  '0.037*: + 0.032*# + 0.031*@ + 0.026*http + 0.015*https + 0.012*epfl + 0.012*, + 0.011*rt + 0.010*! + 0.007*.'),\n",
       " (4,\n",
       "  '0.057*: + 0.052*@ + 0.035*http + 0.033*# + 0.020*https + 0.015*rt + 0.014*epfl + 0.013*, + 0.008*. + 0.008*!')]"
      ]
     },
     "execution_count": 181,
     "metadata": {},
     "output_type": "execute_result"
    }
   ],
   "source": [
    "#Topic Modeling\n",
    "#First, token + stopword removal\n",
    "dictionary = corpora.Dictionary([new_tokens1])\n",
    "corpus = [dictionary.doc2bow(new_tokens1) for long_text in [new_tokens1]]\n",
    "num_topics = 5\n",
    "model = models.LdaModel(corpus, num_topics, id2word=dictionary)\n",
    "model.print_topics()"
   ]
  },
  {
   "cell_type": "code",
   "execution_count": null,
   "metadata": {
    "collapsed": true
   },
   "outputs": [],
   "source": []
  }
 ],
 "metadata": {
  "anaconda-cloud": {},
  "kernelspec": {
   "display_name": "Python [conda root]",
   "language": "python",
   "name": "conda-root-py"
  },
  "language_info": {
   "codemirror_mode": {
    "name": "ipython",
    "version": 3
   },
   "file_extension": ".py",
   "mimetype": "text/x-python",
   "name": "python",
   "nbconvert_exporter": "python",
   "pygments_lexer": "ipython3",
   "version": "3.5.2"
  }
 },
 "nbformat": 4,
 "nbformat_minor": 1
}
