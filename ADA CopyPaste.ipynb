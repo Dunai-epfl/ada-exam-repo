{
 "cells": [
  {
   "cell_type": "markdown",
   "metadata": {},
   "source": [
    "# ADA - CopyPaste"
   ]
  },
  {
   "cell_type": "markdown",
   "metadata": {},
   "source": [
    "## 1. Imports & Initializations"
   ]
  },
  {
   "cell_type": "code",
   "execution_count": 173,
   "metadata": {
    "collapsed": true
   },
   "outputs": [],
   "source": [
    "#Basics\n",
    "import pandas as pd\n",
    "import numpy as np\n",
    "\n",
    "#Plots\n",
    "import matplotlib.pyplot as plt\n",
    "%matplotlib inline\n",
    "import seaborn as sns\n",
    "sns.set_context('notebook')\n",
    "\n",
    "#OS\n",
    "import os\n",
    "directory = os.getcwd()\n",
    "list_of_files = os.listdir(directory)"
   ]
  },
  {
   "cell_type": "markdown",
   "metadata": {},
   "source": [
    "## 2. Loading & Writting"
   ]
  },
  {
   "cell_type": "code",
   "execution_count": 101,
   "metadata": {
    "collapsed": false
   },
   "outputs": [],
   "source": [
    "#From CSV\n",
    "path = \"Data/microbiome.csv\"\n",
    "df = pd.read_csv(path, header=None, sep=',', na_values=['?', -9999], index_col=['Taxon','Patient']) #just one if no multi-index\n",
    "\n",
    "#From Pickle\n",
    "pd.read_pickle(\"df_pickle\")\n",
    "\n",
    "#From excel\n",
    "df = pd.read_excel('Data/microbiome/MID2.xls', sheetname='Sheet 1', header=None)\n",
    "\n",
    "#From scratch:\n",
    "df = pd.DataFrame({'feature1':[632, 1638, 569, 115, 433, 1130, 754, 555],\n",
    "                   'feature2':[1, 1, 1, 1, 2, 2, 2, 2],\n",
    "                   'feature3':['Firmicutes', 'Proteobacteria', 'Actinobacteria', \n",
    "                             'Bacteroidetes', 'Firmicutes', 'Proteobacteria',\n",
    "                             'Actinobacteria', 'Bacteroidetes']})\n",
    "\n",
    "df_num = df[['feature1','feature2']] #somethings can only be done in numeric\n",
    "\n",
    "#To CSV\n",
    "df.to_csv(\"df.csv\")\n",
    "\n",
    "#To Pickle\n",
    "df.to_pickle(\"df_pickle\")\n"
   ]
  },
  {
   "cell_type": "markdown",
   "metadata": {},
   "source": [
    "## 3. Porperties and Methods"
   ]
  },
  {
   "cell_type": "code",
   "execution_count": 178,
   "metadata": {
    "collapsed": false
   },
   "outputs": [
    {
     "data": {
      "text/plain": [
       "['a', 'cd']"
      ]
     },
     "execution_count": 178,
     "metadata": {},
     "output_type": "execute_result"
    }
   ],
   "source": [
    "# Of DataFrame\n",
    "df.head()\n",
    "df.tail()\n",
    "df.shape\n",
    "df.columns\n",
    "df.dtypes\n",
    "df.index\n",
    "df.describe()\n",
    "df.isin(['Firmicutes','Bacteroidetes']) # Also works with intergers. Returns True/False dataframe\n",
    "df.sort_index(ascending=False) #descending order\n",
    "df.sort_values(ascending=[False,True], by=['feature1', 'feature2']) #double sorting\n",
    "df.reset_index()\n",
    "df1 = df_num.sum(axis=1) #sums through rows\n",
    "df1 = df_num.corr()\n",
    "df1 = df.transpose()\n",
    "\n",
    "\n",
    "# Of Series\n",
    "s = df.feature1 #s == Series\n",
    "s.values\n",
    "s.isnull()\n",
    "s.notnull()\n",
    "s.astype(str)\n",
    "s.is_unique\n",
    "s.unique() #returns the 'set'\n",
    "s.value_counts()\n",
    "s.max()\n",
    "s.min()\n",
    "s.sum()\n",
    "s.mean()\n",
    "s.sort_values(ascending=False) #descending order\n",
    "s.astype(float).round(3) #three decimals\n",
    "idx = s.rank(method='first', ascending=False)\n",
    "l = s.tolist() #values to list\n",
    "\n",
    "# Of Lists\n",
    "l2 = list(s.values)\n",
    "l2.append(1) #adds 1 at the end\n",
    "l2.pop()#pops the 1\n",
    "l2.count(10) #counts how many 10s\n",
    "\n",
    "# Of Strings\n",
    "string = 'abcd'\n",
    "string.endswith('cd') #True/False\n",
    "string.startswith('ab') #True/False\n",
    "'bc' in string #True/False\n",
    "str2 = string + 'e'\n",
    "str2 = \"abcd{0}\".format('e') #allows numeric\n",
    "string.lower()\n",
    "string.upper()\n",
    "string.find('b') #returns first index, -1 on failure\n",
    "string.split('b')"
   ]
  },
  {
   "cell_type": "markdown",
   "metadata": {},
   "source": [
    "## 4. Handling Data"
   ]
  },
  {
   "cell_type": "code",
   "execution_count": null,
   "metadata": {
    "collapsed": false
   },
   "outputs": [],
   "source": [
    "# Assignation\n",
    "df['new'] = 0 #initialization of column to 0\n",
    "df.set_value(5, 'feature1', 10) #(index,column,value)\n",
    "s[1:4] = 10 #affects the dataframe because s is defined by pointer.\n",
    "\n",
    "# Selections\n",
    "th = 500 #threshold\n",
    "\n",
    "s = df['feature1']\n",
    "s[s>th]\n",
    "\n",
    "df1 = df.copy() #No pointer\n",
    "df1 = df.ix[:,['feature1','feature2']]\n",
    "df1 = df.ix[[2,3],0:2] # Like matrix\n",
    "df1 = df.ix[2:,'feature1':'feature3'] # Like matrix\n",
    "\n",
    "df[df.feature1>th]\n",
    "df.query('feature1>@th')\n",
    "\n",
    "\n",
    "# Clean\n",
    "df1 = df[pd.isnull(df)]\n",
    "df1 = df.drop('feature3', axis=1) #1 for column, 0 for row\n",
    "df.dropna(how='any', subset=['feature1','feature2'], axis=0, inplace=True) # 0 rows, 1 columns. how={‘any’, ‘all’}. thresh=xxx \n",
    "df.fillna(0, inplace=True) #fill with 0s\n",
    "df.fillna(method='bfill', inplace=True) #fills with interpolation\n",
    "\n",
    "\n",
    "# Reindex\n",
    "df1 = df.rename(index={4: 'New cases', 1: 'Total deaths'})\n",
    "df1 = df.rename(columns={'feature3':'Total deaths'})\n",
    "df1 = df.set_index(['feature3','feature2'])\n",
    "    # df1 = df1.ix[('Firmicutes',2),:] #now selection with parenthesis in multi-index\n",
    "df1 = df1.reset_index() #need to copy\n",
    "\n",
    "# Merging and joining\n",
    "df2 = pd.concat([df,df1], axis=1) # 0 pastes on the bottom, 1 pastes on the right. join : {‘inner’, ‘outer’}, default ‘outer’\n"
   ]
  },
  {
   "cell_type": "markdown",
   "metadata": {},
   "source": [
    "## 5. Plotting"
   ]
  },
  {
   "cell_type": "code",
   "execution_count": 176,
   "metadata": {
    "collapsed": false
   },
   "outputs": [
    {
     "data": {
      "text/plain": [
       "<matplotlib.axes._subplots.AxesSubplot at 0x1cf744d17b8>"
      ]
     },
     "execution_count": 176,
     "metadata": {},
     "output_type": "execute_result"
    },
    {
     "data": {
      "image/png": "[encoded data removed]",
      "text/plain": [
       "<matplotlib.figure.Figure at 0x1cf723400f0>"
      ]
     },
     "metadata": {},
     "output_type": "display_data"
    }
   ],
   "source": [
    "s.hist(bins=10)\n"
   ]
  },
  {
   "cell_type": "markdown",
   "metadata": {},
   "source": [
    "## Numpy"
   ]
  },
  {
   "cell_type": "code",
   "execution_count": 127,
   "metadata": {
    "collapsed": false
   },
   "outputs": [
    {
     "data": {
      "text/plain": [
       "array([[ 0,  1,  2],\n",
       "       [ 3,  4,  5],\n",
       "       [ 6,  7,  8],\n",
       "       [ 9, 10, 11]])"
      ]
     },
     "execution_count": 127,
     "metadata": {},
     "output_type": "execute_result"
    }
   ],
   "source": [
    "np.log(s)\n",
    "\n",
    "np.arange(12).reshape(( 4, 3)) #arrange is [0 ... 11], reshape gives form"
   ]
  },
  {
   "cell_type": "markdown",
   "metadata": {},
   "source": [
    "## Extras with examples"
   ]
  },
  {
   "cell_type": "code",
   "execution_count": null,
   "metadata": {
    "collapsed": false
   },
   "outputs": [],
   "source": [
    "# List Comprehension\n",
    "squares = [x**2 for x in range(10)]\n",
    "#With lamda, map\n",
    "squares = map(lambda x: x**2, range(10))\n",
    "\n",
    "# Apply\n",
    "df.apply(np.median) #median of each column\n",
    "#With lambda - range of each column\n",
    "df_range = lambda x: x.max() - x.min()\n",
    "df.apply(stat_range)\n",
    "\n",
    "# Datetime\n",
    "date = pd.to_datetime(df.feature1)\n",
    "year = date.year\n",
    "month = date.month\n",
    "hour = date.hour"
   ]
  },
  {
   "cell_type": "code",
   "execution_count": 153,
   "metadata": {
    "collapsed": false
   },
   "outputs": [
    {
     "name": "stdout",
     "output_type": "stream",
     "text": [
      "What is your name?  It is lancelot.\n",
      "What is your quest?  It is the holy grail.\n",
      "What is your favorite color?  It is blue.\n"
     ]
    }
   ],
   "source": [
    "# Loop with zip + print with format\n",
    "questions = ['name', 'quest', 'favorite color']\n",
    "answers = ['lancelot', 'the holy grail', 'blue']\n",
    "for q, a in zip(questions, answers):\n",
    "    print('What is your {0}?  It is {1}.'.format(q, a))"
   ]
  },
  {
   "cell_type": "code",
   "execution_count": null,
   "metadata": {
    "collapsed": true
   },
   "outputs": [],
   "source": []
  }
 ],
 "metadata": {
  "anaconda-cloud": {},
  "kernelspec": {
   "display_name": "Python [conda root]",
   "language": "python",
   "name": "conda-root-py"
  },
  "language_info": {
   "codemirror_mode": {
    "name": "ipython",
    "version": 3
   },
   "file_extension": ".py",
   "mimetype": "text/x-python",
   "name": "python",
   "nbconvert_exporter": "python",
   "pygments_lexer": "ipython3",
   "version": "3.5.2"
  }
 },
 "nbformat": 4,
 "nbformat_minor": 1
}
